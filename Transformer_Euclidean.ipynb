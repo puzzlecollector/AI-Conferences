{
 "cells": [
  {
   "cell_type": "code",
   "execution_count": 1,
   "id": "fbd65cb8-a428-44e8-b04f-81b8c4645b15",
   "metadata": {},
   "outputs": [
    {
     "name": "stderr",
     "output_type": "stream",
     "text": [
      "/opt/conda/lib/python3.8/site-packages/transformers/generation_utils.py:24: FutureWarning: Importing `GenerationMixin` from `src/transformers/generation_utils.py` is deprecated and will be removed in Transformers v5. Import as `from transformers import GenerationMixin` instead.\n",
      "  warnings.warn(\n"
     ]
    }
   ],
   "source": [
    "import numpy as np \n",
    "import pandas as pd \n",
    "import json \n",
    "import ccxt \n",
    "import seaborn as sns\n",
    "import os \n",
    "import pandas_ta as ta \n",
    "import time\n",
    "from datetime import datetime, timedelta\n",
    "import math\n",
    "from tqdm.auto import tqdm \n",
    "import matplotlib.pyplot as plt \n",
    "from transformers import * \n",
    "import torch \n",
    "from torch import Tensor \n",
    "from torch.utils.data import * \n",
    "import torch.nn as nn \n",
    "import torch.nn.functional as F \n",
    "from sklearn.utils.class_weight import compute_class_weight \n",
    "from sklearn.metrics import f1_score\n",
    "from imblearn.under_sampling import RandomUnderSampler\n",
    "from pytorch_metric_learning import miners, losses\n",
    "from pytorch_metric_learning.distances import CosineSimilarity\n",
    "from scipy.spatial.distance import cdist \n",
    "import random \n",
    "import warnings \n",
    "warnings.filterwarnings(\"ignore\") \n",
    "import pickle\n",
    "from sklearn.utils.class_weight import compute_class_weight\n",
    "from xgboost import XGBClassifier  \n",
    "from sklearn.pipeline import make_pipeline\n",
    "from sklearn.datasets import make_moons, make_circles, make_classification\n",
    "from sklearn.neural_network import MLPClassifier\n",
    "from sklearn.neighbors import KNeighborsClassifier\n",
    "from sklearn.svm import SVC\n",
    "from sklearn.gaussian_process import GaussianProcessClassifier\n",
    "from sklearn.gaussian_process.kernels import RBF\n",
    "from sklearn.tree import DecisionTreeClassifier\n",
    "from sklearn.ensemble import RandomForestClassifier, AdaBoostClassifier\n",
    "from sklearn.naive_bayes import GaussianNB\n",
    "from sklearn.discriminant_analysis import QuadraticDiscriminantAnalysis\n",
    "from sklearn.inspection import DecisionBoundaryDisplay\n",
    "from torch.utils.data import Dataset, DataLoader, TensorDataset, RandomSampler, SequentialSampler "
   ]
  },
  {
   "cell_type": "code",
   "execution_count": 2,
   "id": "88454956-78de-4dc0-898e-f72bb0e375d9",
   "metadata": {},
   "outputs": [],
   "source": [
    "def seed_everything(seed): \n",
    "    random.seed(seed) \n",
    "    os.environ[\"PYTHONHASHSEED\"] = str(seed) \n",
    "    np.random.seed(seed) \n",
    "    torch.manual_seed(seed) \n",
    "    torch.cuda.manual_seed(seed) \n",
    "    torch.backends.cudnn.deterministic = True \n",
    "    torch.backends.cudnn.benchmark = True \n",
    "\n",
    "seed_everything(42) # fix seed to 42 "
   ]
  },
  {
   "cell_type": "markdown",
   "id": "99fb5261-44bf-45a9-86cf-da75fe7ec2cc",
   "metadata": {},
   "source": [
    "# Define Transformer Architecture"
   ]
  },
  {
   "cell_type": "code",
   "execution_count": 3,
   "id": "51be656f-9258-41d5-8531-faf3608df1e4",
   "metadata": {},
   "outputs": [],
   "source": [
    "# define model\n",
    "class PositionalEncoding(nn.Module): \n",
    "    def __init__(self, d_model, dropout=0.1, max_len=5000): \n",
    "        super(PositionalEncoding, self).__init__() \n",
    "        self.dropout = nn.Dropout(p=dropout) \n",
    "        pe = torch.zeros(max_len, d_model) \n",
    "        position = torch.arange(0, max_len, dtype=torch.float).unsqueeze(1) \n",
    "        div_term = torch.exp(torch.arange(0, d_model, 2).float() * (-math.log(10000.0) / d_model)) \n",
    "        pe[:, 0::2] = torch.sin(position * div_term) \n",
    "        pe[:, 1::2] = torch.cos(position * div_term) \n",
    "        pe = pe.unsqueeze(0).transpose(0,1) \n",
    "        self.register_buffer(\"pe\", pe) \n",
    "    def forward(self, x): \n",
    "        x = x + self.pe[:x.size(0), :] \n",
    "        return self.dropout(x) \n",
    "\n",
    "class MultiSampleDropout(nn.Module): \n",
    "    def __init__(self, max_dropout_rate, num_samples, classifier): \n",
    "        super(MultiSampleDropout, self).__init__() \n",
    "        self.dropout = nn.Dropout \n",
    "        self.classifier = classifier \n",
    "        self.max_dropout_rate = max_dropout_rate \n",
    "        self.num_samples = num_samples \n",
    "    def forward(self, out): \n",
    "        return torch.mean(torch.stack([self.classifier(self.dropout(p=rate)(out)) for _, rate in enumerate(np.linspace(0, self.max_dropout_rate, self.num_samples))], dim=0), dim=0)\n",
    "\n",
    "class AttentivePooling(torch.nn.Module): \n",
    "    def __init__(self, input_dim): \n",
    "        super(AttentivePooling, self).__init__() \n",
    "        self.W = nn.Linear(input_dim, 1) \n",
    "    def forward(self, x): \n",
    "        softmax = F.softmax \n",
    "        att_w = softmax(self.W(x).squeeze(-1)).unsqueeze(-1) \n",
    "        x = torch.sum(x * att_w, dim=1) \n",
    "        return x \n",
    "\n",
    "class Encoder(nn.Module): \n",
    "    def __init__(self, \n",
    "                 chart_features, \n",
    "                 sequence_length, \n",
    "                 d_model=128, \n",
    "                 num_classes=3, \n",
    "                 n_heads=8, \n",
    "                 num_encoders=6,\n",
    "                 dropout_r=0.2,\n",
    "                 dropout_num_samples=4): \n",
    "        super(Encoder, self).__init__() \n",
    "        self.chart_features = chart_features \n",
    "        self.sequence_length = sequence_length  \n",
    "        self.d_model = d_model \n",
    "        self.num_classes = num_classes  \n",
    "        self.n_heads = n_heads \n",
    "        self.num_encoders = num_encoders \n",
    "        self.batchnorm = nn.BatchNorm1d(self.sequence_length)\n",
    "        self.dropout_r = dropout_r \n",
    "        self.dropout_num_samples = dropout_num_samples\n",
    "        self.chart_embedder = nn.Sequential(\n",
    "            nn.Linear(self.chart_features, d_model//2), \n",
    "            nn.ReLU(), \n",
    "            nn.Linear(d_model//2, d_model) \n",
    "        ) \n",
    "        self.pos_encoder = PositionalEncoding(d_model=self.d_model) \n",
    "        self.encoder_layers = nn.TransformerEncoderLayer(d_model=self.d_model, nhead=self.n_heads, batch_first=True) \n",
    "        self.transformer_encoder = nn.TransformerEncoder(self.encoder_layers, num_layers=self.num_encoders) \n",
    "        self.attentive_pooling = AttentivePooling(input_dim=self.d_model)   \n",
    "        self.fc = nn.Linear(self.d_model, self.num_classes) \n",
    "        self.multi_dropout = MultiSampleDropout(self.dropout_r, self.dropout_num_samples, self.fc) \n",
    "    def forward(self, x):\n",
    "        x = self.batchnorm(x) \n",
    "        x = self.chart_embedder(x)\n",
    "        x = self.pos_encoder(x) \n",
    "        x = self.transformer_encoder(x) \n",
    "        x = self.attentive_pooling(x) \n",
    "        x = self.multi_dropout(x)  \n",
    "        return x \n"
   ]
  },
  {
   "cell_type": "markdown",
   "id": "8a0f7e1e-e10a-4fcd-8195-b6612f9c9cb2",
   "metadata": {},
   "source": [
    "# Preprocess Data: Without Pattern FE"
   ]
  },
  {
   "cell_type": "code",
   "execution_count": 4,
   "id": "2f781dda-c407-4dc4-9325-6bfd05ed5961",
   "metadata": {},
   "outputs": [
    {
     "data": {
      "application/vnd.jupyter.widget-view+json": {
       "model_id": "aeb4ed21aaea449382bede4640ac3a03",
       "version_major": 2,
       "version_minor": 0
      },
      "text/plain": [
       "  0%|          | 0/11852 [00:00<?, ?it/s]"
      ]
     },
     "metadata": {},
     "output_type": "display_data"
    }
   ],
   "source": [
    "with open(\"BTC_USDT-4h-12.json\") as f: \n",
    "    d = json.load(f) \n",
    "\n",
    "chart_df = pd.DataFrame(d) \n",
    "chart_df = chart_df.rename(columns={0:\"timestamp\", 1:\"open\", 2:\"high\", 3:\"low\", 4:\"close\", 5:\"volume\"})\n",
    "\n",
    "def process(df): \n",
    "    binance = ccxt.binance() \n",
    "    dates = df[\"timestamp\"].values \n",
    "    timestamp = [] \n",
    "    for i in range(len(dates)):\n",
    "        date_string = binance.iso8601(int(dates[i])) \n",
    "        date_string = date_string[:10] + \" \" + date_string[11:-5] \n",
    "        timestamp.append(date_string) \n",
    "    df[\"datetime\"] = timestamp\n",
    "    df = df.drop(columns={\"timestamp\"}) \n",
    "    return df \n",
    "\n",
    "chart_df = process(chart_df) \n",
    "\n",
    "hours, days, months, years = [],[],[],[] \n",
    "for dt in tqdm(chart_df[\"datetime\"]):\n",
    "        dtobj = pd.to_datetime(dt) \n",
    "        hour = dtobj.hour \n",
    "        day = dtobj.day \n",
    "        month = dtobj.month \n",
    "        year = dtobj.year \n",
    "        hours.append(hour) \n",
    "        days.append(day) \n",
    "        months.append(month) \n",
    "        years.append(year) \n",
    "\n",
    "chart_df[\"hours\"] = hours \n",
    "chart_df[\"days\"] = days  \n",
    "chart_df[\"months\"] = months \n",
    "chart_df[\"years\"] = years "
   ]
  },
  {
   "cell_type": "code",
   "execution_count": 5,
   "id": "9779598f-4b17-4025-9f5f-8fe780912d6a",
   "metadata": {},
   "outputs": [],
   "source": [
    "def preprocess_seq_data(chart_df, threshold=0.0075): \n",
    "    targets = [] \n",
    "    openv = chart_df[\"open\"].values \n",
    "    close = chart_df[\"close\"].values \n",
    "    high = chart_df[\"high\"].values \n",
    "    low = chart_df[\"low\"].values  \n",
    "    volume = chart_df[\"volume\"].values \n",
    "    \n",
    "    for i in range(close.shape[0]-1):\n",
    "        high_vol = (high[i+1] - close[i]) / close[i] \n",
    "        low_vol = (low[i+1] - close[i]) / close[i] \n",
    "        if high_vol >= threshold: \n",
    "            targets.append(0) \n",
    "        elif low_vol <= -threshold:\n",
    "            targets.append(1) \n",
    "        else:\n",
    "            targets.append(2) \n",
    "        \n",
    "    targets.append(None) \n",
    "    chart_df[\"Targets\"] = targets \n",
    "    \n",
    "    chart_df.set_index(pd.DatetimeIndex(chart_df[\"datetime\"]), inplace=True)\n",
    "    chart_df[\"bop\"] = chart_df.ta.bop(lookahead=False) \n",
    "    chart_df[\"ebsw\"] = chart_df.ta.ebsw(lookahead=False) \n",
    "    chart_df[\"cmf\"] = chart_df.ta.cmf(lookahead=False) \n",
    "    chart_df[\"rsi/100\"] = chart_df.ta.rsi(lookahead=False) / 100\n",
    "    chart_df[\"high/low\"] = chart_df[\"high\"] / chart_df[\"low\"] \n",
    "    chart_df[\"high/open\"] = chart_df[\"high\"] / chart_df[\"open\"] \n",
    "    chart_df[\"low/open\"] = chart_df[\"low\"] / chart_df[\"open\"] \n",
    "    chart_df[\"close/open\"] = chart_df[\"close\"] / chart_df[\"open\"] \n",
    "    chart_df[\"high/close\"] = chart_df[\"high\"] / chart_df[\"close\"] \n",
    "    chart_df[\"low/close\"] = chart_df[\"low\"] / chart_df[\"close\"]     \n",
    "    for l in tqdm(range(1, 12), position=0, leave=True): \n",
    "        for col in [\"open\", \"high\", \"low\", \"close\", \"volume\"]:\n",
    "            val = chart_df[col].values \n",
    "            val_ret = [None for _ in range(l)]\n",
    "            for i in range(l, len(val)):\n",
    "                if val[i-l] == 0: \n",
    "                    ret = 1 \n",
    "                else:\n",
    "                    ret = val[i] / val[i-l]  \n",
    "                val_ret.append(ret) \n",
    "            chart_df[\"{}_change_{}\".format(col, l)] = val_ret \n",
    "\n",
    "    chart_df.dropna(inplace=True) \n",
    "    chart_df.drop(columns={\"open\", \"high\", \"low\", \"close\", \"volume\"}, inplace=True) \n",
    "    return chart_df"
   ]
  },
  {
   "cell_type": "code",
   "execution_count": 6,
   "id": "094541de-6ef5-4e7d-9469-8317e74b7da5",
   "metadata": {},
   "outputs": [
    {
     "data": {
      "application/vnd.jupyter.widget-view+json": {
       "model_id": "909227df550d42859d74a89204d2b269",
       "version_major": 2,
       "version_minor": 0
      },
      "text/plain": [
       "  0%|          | 0/11 [00:00<?, ?it/s]"
      ]
     },
     "metadata": {},
     "output_type": "display_data"
    },
    {
     "data": {
      "text/plain": [
       "<AxesSubplot:xlabel='Targets', ylabel='count'>"
      ]
     },
     "execution_count": 6,
     "metadata": {},
     "output_type": "execute_result"
    },
    {
     "data": {
      "image/png": "[encoded data removed]",
      "text/plain": [
       "<Figure size 432x288 with 1 Axes>"
      ]
     },
     "metadata": {
      "needs_background": "light"
     },
     "output_type": "display_data"
    }
   ],
   "source": [
    "chart_df = preprocess_seq_data(chart_df) \n",
    "\n",
    "sns.countplot(chart_df, x=\"Targets\")"
   ]
  },
  {
   "cell_type": "code",
   "execution_count": 7,
   "id": "42d6162c-db38-45c3-aa5f-336acfb4f885",
   "metadata": {},
   "outputs": [
    {
     "data": {
      "text/plain": [
       "((9449, 68), (9449,), (1181, 68), (1181,), (1182, 68), (1182,))"
      ]
     },
     "execution_count": 7,
     "metadata": {},
     "output_type": "execute_result"
    }
   ],
   "source": [
    "train_columns = []\n",
    "for col in chart_df.columns:\n",
    "    if col not in [\"Targets\", \"datetime\", \"years\"]:\n",
    "        train_columns.append(col)  \n",
    "\n",
    "X = chart_df[train_columns] \n",
    "Y = chart_df[\"Targets\"] \n",
    "\n",
    "train_size = int(chart_df.shape[0] * 0.8) \n",
    "val_size = int(chart_df.shape[0] * 0.1) \n",
    "\n",
    "X_train = X.iloc[:train_size] \n",
    "Y_train = Y.iloc[:train_size] \n",
    "\n",
    "X_val = X.iloc[train_size:train_size+val_size] \n",
    "Y_val = Y.iloc[train_size:train_size+val_size] \n",
    "\n",
    "X_test = X.iloc[train_size+val_size:] \n",
    "Y_test = Y.iloc[train_size+val_size:] \n",
    "\n",
    "X_train.shape, Y_train.shape, X_val.shape, Y_val.shape, X_test.shape, Y_test.shape "
   ]
  },
  {
   "cell_type": "code",
   "execution_count": 8,
   "id": "460bd80d-f2f1-4eb7-82ce-06f4e41d4c8b",
   "metadata": {},
   "outputs": [
    {
     "data": {
      "text/plain": [
       "(1181, 69)"
      ]
     },
     "execution_count": 8,
     "metadata": {},
     "output_type": "execute_result"
    }
   ],
   "source": [
    "lookback = 6 \n",
    "\n",
    "full_val = pd.concat([X_val, Y_val], axis=1) \n",
    "\n",
    "full_val.shape "
   ]
  },
  {
   "cell_type": "code",
   "execution_count": 9,
   "id": "527a88ca-d5f0-4ce9-8f18-c8ee81d762e7",
   "metadata": {},
   "outputs": [
    {
     "data": {
      "text/plain": [
       "(1182, 69)"
      ]
     },
     "execution_count": 9,
     "metadata": {},
     "output_type": "execute_result"
    }
   ],
   "source": [
    "test = pd.concat([X_test, Y_test], axis=1) \n",
    "\n",
    "test.shape"
   ]
  },
  {
   "cell_type": "code",
   "execution_count": 10,
   "id": "2a4f2685-dcdd-4f42-bb02-c99c85e66d31",
   "metadata": {},
   "outputs": [
    {
     "data": {
      "text/plain": [
       "(2363, 69)"
      ]
     },
     "execution_count": 10,
     "metadata": {},
     "output_type": "execute_result"
    }
   ],
   "source": [
    "full_df = pd.concat([full_val, test], axis=0) \n",
    "\n",
    "full_df.shape"
   ]
  },
  {
   "cell_type": "code",
   "execution_count": 11,
   "id": "357dec54-a58b-44b0-9c15-536681c45ba8",
   "metadata": {},
   "outputs": [],
   "source": [
    "train_columns = [] \n",
    "for col in full_df.columns: \n",
    "    if col not in [\"Targets\", \"hours\", \"days\", \"months\"]: \n",
    "        train_columns.append(col) "
   ]
  },
  {
   "cell_type": "code",
   "execution_count": 12,
   "id": "ebe538f1-5e87-4346-a0d5-3ffe02d8f859",
   "metadata": {},
   "outputs": [
    {
     "data": {
      "application/vnd.jupyter.widget-view+json": {
       "model_id": "556da9c6f0b34fc180b397458a7c7a93",
       "version_major": 2,
       "version_minor": 0
      },
      "text/plain": [
       "  0%|          | 0/2357 [00:00<?, ?it/s]"
      ]
     },
     "metadata": {},
     "output_type": "display_data"
    }
   ],
   "source": [
    "X = [] \n",
    "Y = [] \n",
    "\n",
    "for i in tqdm(range(lookback, full_df.shape[0]), position=0, leave=True):\n",
    "    X.append(full_df[train_columns].iloc[i-lookback:i].values) \n",
    "    Y.append(full_df[\"Targets\"].iloc[i-1]) \n",
    "    "
   ]
  },
  {
   "cell_type": "code",
   "execution_count": 13,
   "id": "b6f1cf84-ab20-4a10-a59b-cdbbea65bbf6",
   "metadata": {},
   "outputs": [
    {
     "data": {
      "text/plain": [
       "(torch.Size([2357, 6, 65]), torch.Size([2357]))"
      ]
     },
     "execution_count": 13,
     "metadata": {},
     "output_type": "execute_result"
    }
   ],
   "source": [
    "X = torch.tensor(X).float()  \n",
    "Y = torch.tensor(Y, dtype=int) \n",
    "X.shape, Y.shape"
   ]
  },
  {
   "cell_type": "code",
   "execution_count": 14,
   "id": "dcbf4414-3e21-4f68-aa1c-aa7f8adea1a0",
   "metadata": {},
   "outputs": [
    {
     "data": {
      "text/plain": [
       "(torch.Size([1885, 6, 65]),\n",
       " torch.Size([1885]),\n",
       " torch.Size([235, 6, 65]),\n",
       " torch.Size([235]),\n",
       " torch.Size([237, 6, 65]),\n",
       " torch.Size([237]))"
      ]
     },
     "execution_count": 14,
     "metadata": {},
     "output_type": "execute_result"
    }
   ],
   "source": [
    "train_size = int(0.8 * X.shape[0]) \n",
    "val_size = int(0.1 * X.shape[0]) \n",
    "\n",
    "X_train = X[:train_size] \n",
    "Y_train = Y[:train_size] \n",
    "\n",
    "X_val = X[train_size:train_size+val_size] \n",
    "Y_val = Y[train_size:train_size+val_size] \n",
    "\n",
    "X_test = X[train_size+val_size:] \n",
    "Y_test = Y[train_size+val_size:] \n",
    "\n",
    "X_train.shape, Y_train.shape, X_val.shape, Y_val.shape, X_test.shape, Y_test.shape"
   ]
  },
  {
   "cell_type": "code",
   "execution_count": 15,
   "id": "7e1cdf49-9177-488c-9de4-33924288ff31",
   "metadata": {},
   "outputs": [],
   "source": [
    "batch_size = 128\n",
    "train_data = TensorDataset(X_train, Y_train)\n",
    "train_sampler = RandomSampler(train_data) \n",
    "train_dataloader = DataLoader(train_data, sampler=train_sampler, batch_size=batch_size) \n",
    "\n",
    "val_data = TensorDataset(X_val, Y_val) \n",
    "val_sampler = SequentialSampler(val_data) \n",
    "val_dataloader = DataLoader(val_data, sampler=val_sampler, batch_size=batch_size) \n",
    "\n",
    "test_data = TensorDataset(X_test, Y_test) \n",
    "test_sampler = SequentialSampler(test_data) \n",
    "test_dataloader = DataLoader(test_data, sampler=test_sampler, batch_size=batch_size)  "
   ]
  },
  {
   "cell_type": "code",
   "execution_count": 16,
   "id": "64c1df54-6550-4d75-b6bb-158d2753749f",
   "metadata": {},
   "outputs": [
    {
     "data": {
      "application/vnd.jupyter.widget-view+json": {
       "model_id": "8fd376bb0eb948a9be6d0dc87f95e65c",
       "version_major": 2,
       "version_minor": 0
      },
      "text/plain": [
       "Epochs:   0%|          | 0/50 [00:00<?, ?it/s]"
      ]
     },
     "metadata": {},
     "output_type": "display_data"
    },
    {
     "name": "stdout",
     "output_type": "stream",
     "text": [
      "done training!\n"
     ]
    }
   ],
   "source": [
    "train_losses, val_losses = [], [] \n",
    "\n",
    "device = torch.device(\"cuda\" if torch.cuda.is_available() else \"cpu\") \n",
    "model = Encoder(chart_features=X_train.shape[2], \n",
    "                sequence_length=X_train.shape[1])\n",
    "model.to(device) \n",
    "optimizer = AdamW(model.parameters(), lr=1e-4) \n",
    "epochs = 50\n",
    "total_steps = len(train_dataloader) * epochs\n",
    "scheduler = get_linear_schedule_with_warmup(optimizer, num_warmup_steps=int(0.05*total_steps), num_training_steps=total_steps)\n",
    "class_weights = compute_class_weight(class_weight=\"balanced\", classes=torch.unique(Y_train).numpy(), y=Y_train.numpy())\n",
    "class_weights = torch.tensor(class_weights).float().to(device) \n",
    "loss_func = nn.CrossEntropyLoss(weight = class_weights)\n",
    "\n",
    "best_val_loss = 99999999999\n",
    "best_epoch = -1 \n",
    "\n",
    "model.zero_grad() \n",
    "for epoch_i in tqdm(range(epochs), desc=\"Epochs\", position=0, leave=True, total=epochs): \n",
    "    train_loss = 0 \n",
    "    model.train() \n",
    "    for step, batch in enumerate(train_dataloader):\n",
    "        batch = tuple(t.to(device) for t in batch) \n",
    "        b_seqs, b_labels = batch \n",
    "        outputs = model(b_seqs) \n",
    "        loss = loss_func(outputs, b_labels) \n",
    "        train_loss += loss.item() \n",
    "        loss.backward() \n",
    "        torch.nn.utils.clip_grad_norm_(model.parameters(), 1.0)\n",
    "        optimizer.step() \n",
    "        scheduler.step() \n",
    "        model.zero_grad() \n",
    "    avg_train_loss = train_loss / len(train_dataloader) \n",
    "    train_losses.append(avg_train_loss) \n",
    "    val_loss = 0 \n",
    "    for step, batch in enumerate(val_dataloader):\n",
    "        batch = tuple(t.to(device) for t in batch) \n",
    "        b_seqs, b_labels = batch \n",
    "        outputs = model(b_seqs) \n",
    "        loss = loss_func(outputs, b_labels) \n",
    "        val_loss += loss.item() \n",
    "    avg_val_loss = val_loss / len(val_dataloader) \n",
    "    val_losses.append(avg_val_loss)  \n",
    "    if avg_val_loss < best_val_loss:\n",
    "        best_val_loss = avg_val_loss\n",
    "        best_epoch = epoch_i \n",
    "        torch.save(model.state_dict(), \"TFEncoder_noFE.pt\")\n",
    "\n",
    "print(\"done training!\") "
   ]
  },
  {
   "cell_type": "code",
   "execution_count": 17,
   "id": "eb7db577-952c-4850-b380-83b92293323d",
   "metadata": {},
   "outputs": [
    {
     "data": {
      "text/plain": [
       "(1.011201411485672, 0)"
      ]
     },
     "execution_count": 17,
     "metadata": {},
     "output_type": "execute_result"
    }
   ],
   "source": [
    "best_val_loss, best_epoch  "
   ]
  },
  {
   "cell_type": "code",
   "execution_count": 18,
   "id": "7f49bc86-624c-4cf2-8d88-c5d57aedbdfd",
   "metadata": {},
   "outputs": [
    {
     "data": {
      "text/plain": [
       "<matplotlib.legend.Legend at 0x7f4110c6d820>"
      ]
     },
     "execution_count": 18,
     "metadata": {},
     "output_type": "execute_result"
    },
    {
     "data": {
      "image/png": "[encoded data removed]",
      "text/plain": [
       "<Figure size 432x288 with 1 Axes>"
      ]
     },
     "metadata": {
      "needs_background": "light"
     },
     "output_type": "display_data"
    }
   ],
   "source": [
    "plt.plot(train_losses, label=\"train loss\") \n",
    "plt.plot(val_losses, label=\"val loss\") \n",
    "plt.legend()"
   ]
  },
  {
   "cell_type": "code",
   "execution_count": 19,
   "id": "dba044d3-24b5-4a6c-ab77-aa7f5492064c",
   "metadata": {},
   "outputs": [
    {
     "data": {
      "application/vnd.jupyter.widget-view+json": {
       "model_id": "1b0af027fdd44e45b521b37f4f9272d9",
       "version_major": 2,
       "version_minor": 0
      },
      "text/plain": [
       "  0%|          | 0/2 [00:00<?, ?it/s]"
      ]
     },
     "metadata": {},
     "output_type": "display_data"
    }
   ],
   "source": [
    "predictions = [] \n",
    "ground_truths = [] \n",
    "\n",
    "best_model = Encoder(chart_features=X_train.shape[2], sequence_length=X_train.shape[1])\n",
    "checkpoint = torch.load(\"TFEncoder_noFE.pt\")\n",
    "best_model.load_state_dict(checkpoint) \n",
    "best_model.to(device)\n",
    "best_model.eval() \n",
    "\n",
    "for step, batch in tqdm(enumerate(test_dataloader), total=len(test_dataloader)): \n",
    "    batch = tuple(t.to(device) for t in batch) \n",
    "    b_seqs, b_labels = batch \n",
    "    with torch.no_grad():\n",
    "        outputs = best_model(b_seqs) \n",
    "        probs = nn.Softmax()(outputs) \n",
    "        classes = torch.argmax(probs, dim=1) \n",
    "    for i in range(classes.shape[0]): \n",
    "        predictions.append(classes[i].item()) \n",
    "        ground_truths.append(b_labels[i].item()) "
   ]
  },
  {
   "cell_type": "code",
   "execution_count": 20,
   "id": "f8285b31-d778-4b71-b503-74ee37f8e54d",
   "metadata": {},
   "outputs": [
    {
     "name": "stdout",
     "output_type": "stream",
     "text": [
      "accuracy : 68.35443037974683% | Weighted F1 : 0.635256098091452\n"
     ]
    }
   ],
   "source": [
    "cnt = 0 \n",
    "for i in range(len(predictions)):\n",
    "    if predictions[i] == ground_truths[i]:\n",
    "        cnt += 1 \n",
    "        \n",
    "accuracy = cnt / len(predictions) * 100.0 \n",
    "f1 = f1_score(ground_truths, predictions, average=\"weighted\") \n",
    "\n",
    "print(f\"accuracy : {accuracy}% | Weighted F1 : {f1}\") "
   ]
  },
  {
   "cell_type": "markdown",
   "id": "692a6985-cd66-47f1-89a0-9794dcac795d",
   "metadata": {},
   "source": [
    "# With similar patterns used: scores softmax normalized"
   ]
  },
  {
   "cell_type": "code",
   "execution_count": 21,
   "id": "83f7a3bd-fd26-4aff-9b12-87239dafd960",
   "metadata": {},
   "outputs": [],
   "source": [
    "with open(\"xgb_chart_similar_dates_ED.pkl\", \"rb\") as f: \n",
    "    similar_dict = pickle.load(f) "
   ]
  },
  {
   "cell_type": "code",
   "execution_count": 22,
   "id": "e207b9d8-803d-44a3-97c2-17f1d3a28d78",
   "metadata": {},
   "outputs": [
    {
     "data": {
      "application/vnd.jupyter.widget-view+json": {
       "model_id": "1321acef5b054095907beb0eb325095f",
       "version_major": 2,
       "version_minor": 0
      },
      "text/plain": [
       "  0%|          | 0/11812 [00:00<?, ?it/s]"
      ]
     },
     "metadata": {},
     "output_type": "display_data"
    }
   ],
   "source": [
    "comp_columns = train_columns[3:] \n",
    "\n",
    "date_chart_info = {} # date, index \n",
    "\n",
    "all_dates = chart_df.index \n",
    "\n",
    "for i in tqdm(range(len(all_dates)), position=0, leave=True): \n",
    "    date_chart_info[all_dates[i]] = i"
   ]
  },
  {
   "cell_type": "code",
   "execution_count": 35,
   "id": "f709d597-0c5d-4df1-b07a-05c9f14dbe56",
   "metadata": {},
   "outputs": [
    {
     "data": {
      "application/vnd.jupyter.widget-view+json": {
       "model_id": "d7587d709b2645b3868ca412daf43ced",
       "version_major": 2,
       "version_minor": 0
      },
      "text/plain": [
       "  0%|          | 0/2363 [00:00<?, ?it/s]"
      ]
     },
     "metadata": {},
     "output_type": "display_data"
    },
    {
     "data": {
      "application/vnd.jupyter.widget-view+json": {
       "model_id": "4fabd082a75c4737b3a0f71cbde9ee1d",
       "version_major": 2,
       "version_minor": 0
      },
      "text/plain": [
       "  0%|          | 0/2357 [00:00<?, ?it/s]"
      ]
     },
     "metadata": {},
     "output_type": "display_data"
    },
    {
     "data": {
      "application/vnd.jupyter.widget-view+json": {
       "model_id": "b0ef87b8b55b42d1ab145579f3a5bdab",
       "version_major": 2,
       "version_minor": 0
      },
      "text/plain": [
       "Epochs:   0%|          | 0/50 [00:00<?, ?it/s]"
      ]
     },
     "metadata": {},
     "output_type": "display_data"
    },
    {
     "name": "stdout",
     "output_type": "stream",
     "text": [
      "done training!\n"
     ]
    },
    {
     "data": {
      "application/vnd.jupyter.widget-view+json": {
       "model_id": "1b24956e3c3d453ea312576a895d640d",
       "version_major": 2,
       "version_minor": 0
      },
      "text/plain": [
       "  0%|          | 0/2 [00:00<?, ?it/s]"
      ]
     },
     "metadata": {},
     "output_type": "display_data"
    },
    {
     "name": "stdout",
     "output_type": "stream",
     "text": [
      "using top 5 similar data\n",
      "accuracy : 73.41772151898735% | Weighted F1 : 0.6395022944962888\n"
     ]
    },
    {
     "data": {
      "application/vnd.jupyter.widget-view+json": {
       "model_id": "1685c6af6dca484abf83110535264544",
       "version_major": 2,
       "version_minor": 0
      },
      "text/plain": [
       "  0%|          | 0/2363 [00:00<?, ?it/s]"
      ]
     },
     "metadata": {},
     "output_type": "display_data"
    },
    {
     "data": {
      "application/vnd.jupyter.widget-view+json": {
       "model_id": "96ab62ac5ed44befbe9a34c1db799154",
       "version_major": 2,
       "version_minor": 0
      },
      "text/plain": [
       "  0%|          | 0/2357 [00:00<?, ?it/s]"
      ]
     },
     "metadata": {},
     "output_type": "display_data"
    },
    {
     "data": {
      "application/vnd.jupyter.widget-view+json": {
       "model_id": "60b6ed349bf24782a41c5303e4cd88a9",
       "version_major": 2,
       "version_minor": 0
      },
      "text/plain": [
       "Epochs:   0%|          | 0/50 [00:00<?, ?it/s]"
      ]
     },
     "metadata": {},
     "output_type": "display_data"
    },
    {
     "name": "stdout",
     "output_type": "stream",
     "text": [
      "done training!\n"
     ]
    },
    {
     "data": {
      "application/vnd.jupyter.widget-view+json": {
       "model_id": "e333b7e4edcf4080b30c395a5db8848b",
       "version_major": 2,
       "version_minor": 0
      },
      "text/plain": [
       "  0%|          | 0/2 [00:00<?, ?it/s]"
      ]
     },
     "metadata": {},
     "output_type": "display_data"
    },
    {
     "name": "stdout",
     "output_type": "stream",
     "text": [
      "using top 10 similar data\n",
      "accuracy : 74.68354430379746% | Weighted F1 : 0.6588110184899318\n"
     ]
    },
    {
     "data": {
      "application/vnd.jupyter.widget-view+json": {
       "model_id": "54f18c7088d44f539ddeb9b1c7fd772e",
       "version_major": 2,
       "version_minor": 0
      },
      "text/plain": [
       "  0%|          | 0/2363 [00:00<?, ?it/s]"
      ]
     },
     "metadata": {},
     "output_type": "display_data"
    },
    {
     "data": {
      "application/vnd.jupyter.widget-view+json": {
       "model_id": "d73736e7f2c64da7ba5f402e8860e1c0",
       "version_major": 2,
       "version_minor": 0
      },
      "text/plain": [
       "  0%|          | 0/2357 [00:00<?, ?it/s]"
      ]
     },
     "metadata": {},
     "output_type": "display_data"
    },
    {
     "data": {
      "application/vnd.jupyter.widget-view+json": {
       "model_id": "1cc6beb6dcb3498f8cfa46e41d68b715",
       "version_major": 2,
       "version_minor": 0
      },
      "text/plain": [
       "Epochs:   0%|          | 0/50 [00:00<?, ?it/s]"
      ]
     },
     "metadata": {},
     "output_type": "display_data"
    },
    {
     "name": "stdout",
     "output_type": "stream",
     "text": [
      "done training!\n"
     ]
    },
    {
     "data": {
      "application/vnd.jupyter.widget-view+json": {
       "model_id": "44b32b8351d2445aa119de9b54159aaa",
       "version_major": 2,
       "version_minor": 0
      },
      "text/plain": [
       "  0%|          | 0/2 [00:00<?, ?it/s]"
      ]
     },
     "metadata": {},
     "output_type": "display_data"
    },
    {
     "name": "stdout",
     "output_type": "stream",
     "text": [
      "using top 15 similar data\n",
      "accuracy : 61.18143459915611% | Weighted F1 : 0.6325331231271232\n"
     ]
    },
    {
     "data": {
      "application/vnd.jupyter.widget-view+json": {
       "model_id": "65c918932fe040139b5a08075954c881",
       "version_major": 2,
       "version_minor": 0
      },
      "text/plain": [
       "  0%|          | 0/2363 [00:00<?, ?it/s]"
      ]
     },
     "metadata": {},
     "output_type": "display_data"
    },
    {
     "data": {
      "application/vnd.jupyter.widget-view+json": {
       "model_id": "4cb05d56ad9144cbab4b3dfc3e1fc781",
       "version_major": 2,
       "version_minor": 0
      },
      "text/plain": [
       "  0%|          | 0/2357 [00:00<?, ?it/s]"
      ]
     },
     "metadata": {},
     "output_type": "display_data"
    },
    {
     "data": {
      "application/vnd.jupyter.widget-view+json": {
       "model_id": "889e2c44ca374b94a1e8816dc6512047",
       "version_major": 2,
       "version_minor": 0
      },
      "text/plain": [
       "Epochs:   0%|          | 0/50 [00:00<?, ?it/s]"
      ]
     },
     "metadata": {},
     "output_type": "display_data"
    },
    {
     "name": "stdout",
     "output_type": "stream",
     "text": [
      "done training!\n"
     ]
    },
    {
     "data": {
      "application/vnd.jupyter.widget-view+json": {
       "model_id": "1c1a20e5ebc24a8181ba6b28174c69e9",
       "version_major": 2,
       "version_minor": 0
      },
      "text/plain": [
       "  0%|          | 0/2 [00:00<?, ?it/s]"
      ]
     },
     "metadata": {},
     "output_type": "display_data"
    },
    {
     "name": "stdout",
     "output_type": "stream",
     "text": [
      "using top 20 similar data\n",
      "accuracy : 65.82278481012658% | Weighted F1 : 0.6362973764828185\n"
     ]
    },
    {
     "data": {
      "application/vnd.jupyter.widget-view+json": {
       "model_id": "5184ca7e56854ebfb03afa3b44cf2a19",
       "version_major": 2,
       "version_minor": 0
      },
      "text/plain": [
       "  0%|          | 0/2363 [00:00<?, ?it/s]"
      ]
     },
     "metadata": {},
     "output_type": "display_data"
    },
    {
     "data": {
      "application/vnd.jupyter.widget-view+json": {
       "model_id": "7e6452d1f99745289f26e1546077560b",
       "version_major": 2,
       "version_minor": 0
      },
      "text/plain": [
       "  0%|          | 0/2357 [00:00<?, ?it/s]"
      ]
     },
     "metadata": {},
     "output_type": "display_data"
    },
    {
     "data": {
      "application/vnd.jupyter.widget-view+json": {
       "model_id": "0dd93e97533d4cf1b62f340b4a97f29f",
       "version_major": 2,
       "version_minor": 0
      },
      "text/plain": [
       "Epochs:   0%|          | 0/50 [00:00<?, ?it/s]"
      ]
     },
     "metadata": {},
     "output_type": "display_data"
    },
    {
     "name": "stdout",
     "output_type": "stream",
     "text": [
      "done training!\n"
     ]
    },
    {
     "data": {
      "application/vnd.jupyter.widget-view+json": {
       "model_id": "63bc055ce36f4de48b5d9f4eac7799c5",
       "version_major": 2,
       "version_minor": 0
      },
      "text/plain": [
       "  0%|          | 0/2 [00:00<?, ?it/s]"
      ]
     },
     "metadata": {},
     "output_type": "display_data"
    },
    {
     "name": "stdout",
     "output_type": "stream",
     "text": [
      "using top 25 similar data\n",
      "accuracy : 70.46413502109705% | Weighted F1 : 0.6715006891613545\n"
     ]
    },
    {
     "data": {
      "application/vnd.jupyter.widget-view+json": {
       "model_id": "0a724a5928624c3b92507c36326cf7eb",
       "version_major": 2,
       "version_minor": 0
      },
      "text/plain": [
       "  0%|          | 0/2363 [00:00<?, ?it/s]"
      ]
     },
     "metadata": {},
     "output_type": "display_data"
    },
    {
     "data": {
      "application/vnd.jupyter.widget-view+json": {
       "model_id": "3acb8197321a4b9399f0c7f1a991e93a",
       "version_major": 2,
       "version_minor": 0
      },
      "text/plain": [
       "  0%|          | 0/2357 [00:00<?, ?it/s]"
      ]
     },
     "metadata": {},
     "output_type": "display_data"
    },
    {
     "data": {
      "application/vnd.jupyter.widget-view+json": {
       "model_id": "813cbeace63b46fdb989ac9fd98cd917",
       "version_major": 2,
       "version_minor": 0
      },
      "text/plain": [
       "Epochs:   0%|          | 0/50 [00:00<?, ?it/s]"
      ]
     },
     "metadata": {},
     "output_type": "display_data"
    },
    {
     "name": "stdout",
     "output_type": "stream",
     "text": [
      "done training!\n"
     ]
    },
    {
     "data": {
      "application/vnd.jupyter.widget-view+json": {
       "model_id": "3c1c1bceec29496aa5ede43363fe722c",
       "version_major": 2,
       "version_minor": 0
      },
      "text/plain": [
       "  0%|          | 0/2 [00:00<?, ?it/s]"
      ]
     },
     "metadata": {},
     "output_type": "display_data"
    },
    {
     "name": "stdout",
     "output_type": "stream",
     "text": [
      "using top 30 similar data\n",
      "accuracy : 71.72995780590718% | Weighted F1 : 0.6622405932705686\n"
     ]
    }
   ],
   "source": [
    "accuracies, f1_scores = [], []\n",
    "lookback = 6 \n",
    "\n",
    "for topk in [5, 10, 15, 20, 25, 30]: \n",
    "    long_cnt, short_cnt, hold_cnt = [], [], []\n",
    "    for key, value in tqdm(similar_dict.items(), position=0, leave=True):\n",
    "        query_idx = date_chart_info[key]\n",
    "        query_target = chart_df[\"Targets\"].iloc[query_idx] \n",
    "        cnt_map = {0:0, 1:0, 2:0} \n",
    "        for i in range(len(value[:topk])):\n",
    "            candidate_idx = date_chart_info[value[i][0]] \n",
    "            candidate_target = chart_df[\"Targets\"].iloc[candidate_idx] \n",
    "            cnt_map[candidate_target] += 1 \n",
    "        softmaxed = nn.Softmax()(torch.tensor([cnt_map[0], cnt_map[1], cnt_map[2]]).float()) \n",
    "        long_cnt.append(softmaxed[0].item()) \n",
    "        short_cnt.append(softmaxed[1].item()) \n",
    "        hold_cnt.append(softmaxed[2].item()) \n",
    "    full_df[\"long_vote\"] = long_cnt \n",
    "    full_df[\"short_vote\"] = short_cnt \n",
    "    full_df[\"hold_vote\"] = hold_cnt\n",
    "    \n",
    "    train_columns = [] \n",
    "    for col in full_df.columns: \n",
    "        if col not in [\"Targets\", \"hours\", \"days\", \"months\"]: \n",
    "            train_columns.append(col) \n",
    "            \n",
    "    X, Y = [], [] \n",
    "    for i in tqdm(range(lookback, full_df.shape[0]), position=0, leave=True): \n",
    "        X.append(full_df[train_columns].iloc[i-lookback:i].values)  \n",
    "        Y.append(full_df[\"Targets\"].iloc[i-1]) \n",
    "    X = torch.tensor(X).float() \n",
    "    Y = torch.tensor(Y, dtype=int)  \n",
    "    \n",
    "    train_size = int(0.8 * X.shape[0]) \n",
    "    val_size = int(0.1 * X.shape[0]) \n",
    "\n",
    "    X_train = X[:train_size] \n",
    "    Y_train = Y[:train_size] \n",
    "\n",
    "    X_val = X[train_size:train_size+val_size] \n",
    "    Y_val = Y[train_size:train_size+val_size] \n",
    "\n",
    "    X_test = X[train_size+val_size:] \n",
    "    Y_test = Y[train_size+val_size:] \n",
    "\n",
    "    batch_size = 128\n",
    "    train_data = TensorDataset(X_train, Y_train)\n",
    "    train_sampler = RandomSampler(train_data) \n",
    "    train_dataloader = DataLoader(train_data, sampler=train_sampler, batch_size=batch_size) \n",
    "\n",
    "    val_data = TensorDataset(X_val, Y_val) \n",
    "    val_sampler = SequentialSampler(val_data) \n",
    "    val_dataloader = DataLoader(val_data, sampler=val_sampler, batch_size=batch_size) \n",
    "\n",
    "    test_data = TensorDataset(X_test, Y_test) \n",
    "    test_sampler = SequentialSampler(test_data) \n",
    "    test_dataloader = DataLoader(test_data, sampler=test_sampler, batch_size=batch_size)  \n",
    "    \n",
    "    train_losses, val_losses = [], [] \n",
    "\n",
    "    device = torch.device(\"cuda\" if torch.cuda.is_available() else \"cpu\") \n",
    "    model = Encoder(chart_features=X_train.shape[2], \n",
    "                    sequence_length=X_train.shape[1])\n",
    "    model.to(device) \n",
    "    optimizer = AdamW(model.parameters(), lr=1e-4) \n",
    "    epochs = 50\n",
    "    total_steps = len(train_dataloader) * epochs\n",
    "    scheduler = get_linear_schedule_with_warmup(optimizer, num_warmup_steps=int(0.05*total_steps), num_training_steps=total_steps)\n",
    "    class_weights = compute_class_weight(class_weight=\"balanced\", classes=torch.unique(Y_train).numpy(), y=Y_train.numpy())\n",
    "    class_weights = torch.tensor(class_weights).float().to(device) \n",
    "    loss_func = nn.CrossEntropyLoss(weight = class_weights)\n",
    "\n",
    "    best_val_loss = 99999999999\n",
    "    best_epoch = -1 \n",
    "\n",
    "    model.zero_grad() \n",
    "    for epoch_i in tqdm(range(epochs), desc=\"Epochs\", position=0, leave=True, total=epochs): \n",
    "        train_loss = 0 \n",
    "        model.train() \n",
    "        for step, batch in enumerate(train_dataloader):\n",
    "            batch = tuple(t.to(device) for t in batch) \n",
    "            b_seqs, b_labels = batch \n",
    "            outputs = model(b_seqs) \n",
    "            loss = loss_func(outputs, b_labels) \n",
    "            train_loss += loss.item() \n",
    "            loss.backward() \n",
    "            torch.nn.utils.clip_grad_norm_(model.parameters(), 1.0)\n",
    "            optimizer.step() \n",
    "            scheduler.step() \n",
    "            model.zero_grad() \n",
    "        avg_train_loss = train_loss / len(train_dataloader) \n",
    "        train_losses.append(avg_train_loss) \n",
    "        val_loss = 0 \n",
    "        for step, batch in enumerate(val_dataloader):\n",
    "            batch = tuple(t.to(device) for t in batch) \n",
    "            b_seqs, b_labels = batch \n",
    "            outputs = model(b_seqs) \n",
    "            loss = loss_func(outputs, b_labels) \n",
    "            val_loss += loss.item() \n",
    "        avg_val_loss = val_loss / len(val_dataloader) \n",
    "        val_losses.append(avg_val_loss)  \n",
    "        if avg_val_loss < best_val_loss:\n",
    "            best_val_loss = avg_val_loss\n",
    "            best_epoch = epoch_i \n",
    "            torch.save(model.state_dict(), f\"ED_top{topk}_TFEncoder_FE.pt\")\n",
    "\n",
    "    print(\"done training!\") \n",
    "    \n",
    "    predictions = [] \n",
    "    ground_truths = [] \n",
    "\n",
    "    best_model = Encoder(chart_features=X_train.shape[2], sequence_length=X_train.shape[1])\n",
    "    checkpoint = torch.load(f\"ED_top{topk}_TFEncoder_FE.pt\")\n",
    "    best_model.load_state_dict(checkpoint) \n",
    "    best_model.to(device)\n",
    "    best_model.eval() \n",
    "\n",
    "    for step, batch in tqdm(enumerate(test_dataloader), total=len(test_dataloader)): \n",
    "        batch = tuple(t.to(device) for t in batch) \n",
    "        b_seqs, b_labels = batch \n",
    "        with torch.no_grad():\n",
    "            outputs = best_model(b_seqs) \n",
    "            probs = nn.Softmax()(outputs) \n",
    "            classes = torch.argmax(probs, dim=1) \n",
    "        for i in range(classes.shape[0]): \n",
    "            predictions.append(classes[i].item()) \n",
    "            ground_truths.append(b_labels[i].item())  \n",
    "    \n",
    "    cnt = 0 \n",
    "    for i in range(len(predictions)):\n",
    "        if predictions[i] == ground_truths[i]:\n",
    "            cnt += 1 \n",
    "\n",
    "    accuracy = cnt / len(predictions) * 100.0 \n",
    "    f1 = f1_score(ground_truths, predictions, average=\"weighted\") \n",
    "\n",
    "    accuracies.append(accuracy) \n",
    "    f1_scores.append(f1) \n",
    "    \n",
    "    print(f\"using top {topk} similar data\") \n",
    "    print(f\"accuracy : {accuracy}% | Weighted F1 : {f1}\") "
   ]
  },
  {
   "cell_type": "code",
   "execution_count": 36,
   "id": "3f362a4d-1ca6-4acb-a73c-c9b5f0b95719",
   "metadata": {},
   "outputs": [
    {
     "name": "stdout",
     "output_type": "stream",
     "text": [
      "mean accuracy: 69.54992967651195% | mean weighted F1: 0.6501475158380142\n"
     ]
    }
   ],
   "source": [
    "mean_accuracy = np.mean(accuracies) \n",
    "mean_f1 = np.mean(f1_scores) \n",
    "\n",
    "print(f\"mean accuracy: {mean_accuracy}% | mean weighted F1: {mean_f1}\") "
   ]
  },
  {
   "cell_type": "code",
   "execution_count": null,
   "id": "9b226b14-cea3-4afe-99af-90e5aeb6389e",
   "metadata": {},
   "outputs": [],
   "source": []
  }
 ],
 "metadata": {
  "kernelspec": {
   "display_name": "Python 3 (ipykernel)",
   "language": "python",
   "name": "python3"
  },
  "language_info": {
   "codemirror_mode": {
    "name": "ipython",
    "version": 3
   },
   "file_extension": ".py",
   "mimetype": "text/x-python",
   "name": "python",
   "nbconvert_exporter": "python",
   "pygments_lexer": "ipython3",
   "version": "3.8.12"
  }
 },
 "nbformat": 4,
 "nbformat_minor": 5
}
