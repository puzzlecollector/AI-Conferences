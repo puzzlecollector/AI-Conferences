{
 "cells": [
  {
   "cell_type": "code",
   "execution_count": 53,
   "id": "5cb3d96b-309f-48a2-accb-3515dda262b9",
   "metadata": {},
   "outputs": [],
   "source": [
    "import numpy as np \n",
    "import pandas as pd \n",
    "import json \n",
    "import ccxt \n",
    "import seaborn as sns\n",
    "import os \n",
    "import pandas_ta as ta \n",
    "import time\n",
    "from datetime import datetime, timedelta\n",
    "import math\n",
    "from tqdm.auto import tqdm \n",
    "import matplotlib.pyplot as plt \n",
    "from transformers import * \n",
    "import torch \n",
    "from torch import Tensor \n",
    "from torch.utils.data import * \n",
    "import torch.nn as nn \n",
    "import torch.nn.functional as F \n",
    "from sklearn.utils.class_weight import compute_class_weight \n",
    "from sklearn.metrics import f1_score\n",
    "from imblearn.under_sampling import RandomUnderSampler\n",
    "from pytorch_metric_learning import miners, losses\n",
    "from pytorch_metric_learning.distances import CosineSimilarity\n",
    "from scipy.spatial.distance import cdist \n",
    "import pickle\n",
    "import warnings\n",
    "warnings.filterwarnings('ignore')\n",
    "\n",
    "from ts2vec import TS2Vec"
   ]
  },
  {
   "cell_type": "code",
   "execution_count": 54,
   "id": "50eeb9d6-79bc-49b1-a9e0-f96ccf173bba",
   "metadata": {},
   "outputs": [],
   "source": [
    "chart_embedder = TS2Vec(input_dims=1, device=0, output_dims=128) "
   ]
  },
  {
   "cell_type": "code",
   "execution_count": 55,
   "id": "92994ed7-9f5e-4e59-bad6-bc5da1a054c3",
   "metadata": {},
   "outputs": [
    {
     "data": {
      "text/plain": [
       "<ts2vec.TS2Vec at 0x7f15ec5f43d0>"
      ]
     },
     "execution_count": 55,
     "metadata": {},
     "output_type": "execute_result"
    }
   ],
   "source": [
    "chart_embedder"
   ]
  },
  {
   "cell_type": "code",
   "execution_count": 56,
   "id": "baf3519c-c9c3-4c34-a437-6f7048d89120",
   "metadata": {},
   "outputs": [
    {
     "data": {
      "application/vnd.jupyter.widget-view+json": {
       "model_id": "758297701bc045279f3c7de123e75e80",
       "version_major": 2,
       "version_minor": 0
      },
      "text/plain": [
       "  0%|          | 0/47346 [00:00<?, ?it/s]"
      ]
     },
     "metadata": {},
     "output_type": "display_data"
    }
   ],
   "source": [
    "with open(\"BTC_USDT-1h-12.json\") as f: \n",
    "    d = json.load(f) \n",
    "\n",
    "chart_df = pd.DataFrame(d) \n",
    "chart_df = chart_df.rename(columns={0:\"timestamp\", 1:\"open\", 2:\"high\", 3:\"low\", 4:\"close\", 5:\"volume\"})\n",
    "\n",
    "def process(df): \n",
    "    binance = ccxt.binance() \n",
    "    dates = df[\"timestamp\"].values \n",
    "    timestamp = [] \n",
    "    for i in range(len(dates)):\n",
    "        date_string = binance.iso8601(int(dates[i])) \n",
    "        date_string = date_string[:10] + \" \" + date_string[11:-5] \n",
    "        timestamp.append(date_string) \n",
    "    df[\"datetime\"] = timestamp\n",
    "    df = df.drop(columns={\"timestamp\"}) \n",
    "    return df \n",
    "\n",
    "chart_df = process(chart_df) \n",
    "\n",
    "hours, days, months, years = [],[],[],[] \n",
    "for dt in tqdm(chart_df[\"datetime\"]):\n",
    "        dtobj = pd.to_datetime(dt) \n",
    "        hour = dtobj.hour \n",
    "        day = dtobj.day \n",
    "        month = dtobj.month \n",
    "        year = dtobj.year \n",
    "        hours.append(hour) \n",
    "        days.append(day) \n",
    "        months.append(month) \n",
    "        years.append(year) \n",
    "\n",
    "chart_df[\"hours\"] = hours \n",
    "chart_df[\"days\"] = days  \n",
    "chart_df[\"months\"] = months \n",
    "chart_df[\"years\"] = years \n",
    "\n",
    "close = chart_df[\"close\"].values \n",
    "datetimes = chart_df[\"datetime\"].values "
   ]
  },
  {
   "cell_type": "code",
   "execution_count": 57,
   "id": "1c41442a-d0a0-4012-b6c7-d9dfa9be3f54",
   "metadata": {},
   "outputs": [],
   "source": [
    "anomalous_datetimes = [] \n",
    "lookback_window = 24\n",
    "forecast_window = 6 \n",
    "threshold = 1 \n",
    "\n",
    "for i in range(lookback_window, close.shape[0]-forecast_window):\n",
    "    cur_close = close[i-lookback_window:i+1] \n",
    "    delta = (cur_close[-1] - cur_close[-2]) / cur_close[-2] * 100 \n",
    "    if delta >= threshold or delta <= -threshold:\n",
    "        dtobj = datetime.strptime(str(datetimes[i]), \"%Y-%m-%d %H:%M:%S\") \n",
    "        anomalous_datetimes.append(dtobj) "
   ]
  },
  {
   "cell_type": "code",
   "execution_count": 58,
   "id": "dc8ae9f1-7c59-4024-b76b-229abcdb9d8b",
   "metadata": {},
   "outputs": [
    {
     "data": {
      "application/vnd.jupyter.widget-view+json": {
       "model_id": "963aca48855e4294909a5b4200a40006",
       "version_major": 2,
       "version_minor": 0
      },
      "text/plain": [
       "  0%|          | 0/47316 [00:00<?, ?it/s]"
      ]
     },
     "metadata": {},
     "output_type": "display_data"
    },
    {
     "data": {
      "application/vnd.jupyter.widget-view+json": {
       "model_id": "a8c1323706f74cd3b10ddb092d1395c2",
       "version_major": 2,
       "version_minor": 0
      },
      "text/plain": [
       "  0%|          | 0/113954 [00:00<?, ?it/s]"
      ]
     },
     "metadata": {},
     "output_type": "display_data"
    },
    {
     "data": {
      "application/vnd.jupyter.widget-view+json": {
       "model_id": "8fb5eff0a47b461eac05834bd758ce66",
       "version_major": 2,
       "version_minor": 0
      },
      "text/plain": [
       "  0%|          | 0/6452 [00:00<?, ?it/s]"
      ]
     },
     "metadata": {},
     "output_type": "display_data"
    },
    {
     "data": {
      "application/vnd.jupyter.widget-view+json": {
       "model_id": "b82f18926eb34b249370dd37f1bc76c5",
       "version_major": 2,
       "version_minor": 0
      },
      "text/plain": [
       "  0%|          | 0/4453 [00:00<?, ?it/s]"
      ]
     },
     "metadata": {},
     "output_type": "display_data"
    }
   ],
   "source": [
    "date_chart_df = {} \n",
    "for i in tqdm(range(lookback_window, len(datetimes) - forecast_window)):\n",
    "    dtobj = datetime.strptime(str(datetimes[i]), \"%Y-%m-%d %H:%M:%S\") \n",
    "    date_chart_df[dtobj] = (close[i-lookback_window+1:i+1], close[i+1:i+1+forecast_window])\n",
    "    \n",
    "# for fairness of comparison     \n",
    "\n",
    "news = pd.read_csv(\"full_news_22_01_16.csv\")\n",
    "titles = news[\"titles\"].values \n",
    "contents = news[\"contents\"].values \n",
    "\n",
    "years = news[\"year\"].values \n",
    "months = news[\"month\"].values \n",
    "days = news[\"day\"].values \n",
    "hours = news[\"hour\"].values \n",
    "\n",
    "news_dtobjects = [] \n",
    "\n",
    "for i in tqdm(range(len(years)), position=0, leave=True): \n",
    "    date_str = str(years[i]) + \"-\" + str(months[i]) + \"-\" + str(days[i]) + \" \" + str(hours[i]) + \":00:00\" \n",
    "    dtobj = datetime.strptime(date_str, \"%Y-%m-%d %H:%M:%S\")  \n",
    "    news_dtobjects.append(dtobj) \n",
    "\n",
    "# we cannot consider sections where news data is not available \n",
    "searchable = [] # at least have one news for comparison \n",
    "\n",
    "for i in tqdm(range(len(anomalous_datetimes)), position=0, leave=True): \n",
    "    dtobj = anomalous_datetimes[i] \n",
    "    start_dt, end_dt = dtobj-timedelta(hours=24), dtobj \n",
    "    cnt = 0 \n",
    "    for k in range(len(news_dtobjects)): \n",
    "        if news_dtobjects[k] >= start_dt and news_dtobjects[k] <= end_dt: \n",
    "            cnt += 1\n",
    "        elif news_dtobjects[k] > end_dt: \n",
    "            break \n",
    "    if cnt > 0:\n",
    "        searchable.append((dtobj, cnt))\n",
    "\n",
    "past_input_dir = {} \n",
    "for i in tqdm(range(len(searchable)), position=0, leave=True):\n",
    "    cur_date = searchable[i][0]\n",
    "    past_input, future_input = date_chart_df[cur_date] \n",
    "    delta = (past_input[-1] - past_input[-2]) / past_input[-2] * 100.0 \n",
    "    if delta >= 1.0: \n",
    "        past_input_dir[cur_date] = 0 \n",
    "    elif delta <= -1.0: \n",
    "        past_input_dir[cur_date] = 1 "
   ]
  },
  {
   "cell_type": "code",
   "execution_count": 59,
   "id": "e150b9f7-24d8-4770-b635-77159c833646",
   "metadata": {},
   "outputs": [],
   "source": [
    "train_data = searchable[:-871] \n",
    "test_data = searchable[-871:] "
   ]
  },
  {
   "cell_type": "code",
   "execution_count": 65,
   "id": "290c7167-2a14-42a9-9fb9-0b06148e70bf",
   "metadata": {},
   "outputs": [
    {
     "data": {
      "application/vnd.jupyter.widget-view+json": {
       "model_id": "0f36fae1a9c74da4a18ac5ca8cea570e",
       "version_major": 2,
       "version_minor": 0
      },
      "text/plain": [
       "  0%|          | 0/3582 [00:00<?, ?it/s]"
      ]
     },
     "metadata": {},
     "output_type": "display_data"
    }
   ],
   "source": [
    "train_seqs = [] \n",
    "for i in tqdm(range(len(train_data)), position=0, leave=True): \n",
    "    train_seq = date_chart_df[train_data[i][0]][0] \n",
    "    return_seqs = [] \n",
    "    for j in range(1, len(train_seq)): \n",
    "        return_seqs.append(train_seq[j] / train_seq[j-1]) \n",
    "    return_seqs = np.array(return_seqs) \n",
    "    train_seqs.append(return_seqs)  "
   ]
  },
  {
   "cell_type": "code",
   "execution_count": 69,
   "id": "56592c32-1e3a-4572-bcfa-9d39a6ae84f8",
   "metadata": {},
   "outputs": [
    {
     "data": {
      "text/plain": [
       "(3582, 23, 1)"
      ]
     },
     "execution_count": 69,
     "metadata": {},
     "output_type": "execute_result"
    }
   ],
   "source": [
    "train_seqs = np.array(train_seqs).reshape((-1, 23, 1)) \n",
    "\n",
    "train_seqs.shape"
   ]
  },
  {
   "cell_type": "code",
   "execution_count": 71,
   "id": "6d970627-25d9-4e76-adbf-765415f89ba0",
   "metadata": {},
   "outputs": [
    {
     "name": "stdout",
     "output_type": "stream",
     "text": [
      "Epoch #28: loss=2.567473692744302\n",
      "Epoch #29: loss=2.4774455649970357\n",
      "Epoch #30: loss=2.4859955989726457\n",
      "Epoch #31: loss=2.449990903315523\n",
      "Epoch #32: loss=2.446621531328278\n",
      "Epoch #33: loss=2.4728212597124246\n",
      "Epoch #34: loss=2.4471188115432123\n",
      "Epoch #35: loss=2.4480880391971946\n",
      "Epoch #36: loss=2.4788530231056725\n",
      "Epoch #37: loss=2.4300374541047445\n",
      "Epoch #38: loss=2.4286659047208023\n",
      "Epoch #39: loss=2.4356579053562317\n",
      "Epoch #40: loss=2.428581115376254\n",
      "Epoch #41: loss=2.4518371857869785\n",
      "Epoch #42: loss=2.4394399670742017\n",
      "Epoch #43: loss=2.4545609218657285\n",
      "Epoch #44: loss=2.425500627590402\n",
      "Epoch #45: loss=2.430259756443212\n",
      "Epoch #46: loss=2.4145699285070994\n",
      "Epoch #47: loss=2.441505257324253\n",
      "Epoch #48: loss=2.4070021111868956\n",
      "Epoch #49: loss=2.4143002439507453\n",
      "Epoch #50: loss=2.4267249390683365\n",
      "Epoch #51: loss=2.4373203002818498\n",
      "Epoch #52: loss=2.4248271426812416\n",
      "Epoch #53: loss=2.415366542178954\n",
      "Epoch #54: loss=2.412693006040804\n",
      "Epoch #55: loss=2.426825944618259\n",
      "Epoch #56: loss=2.382252016944201\n",
      "Epoch #57: loss=2.4227936417532607\n",
      "Epoch #58: loss=2.4133668368172754\n",
      "Epoch #59: loss=2.396220050050539\n",
      "Epoch #60: loss=2.41263835526368\n",
      "Epoch #61: loss=2.403740493705989\n",
      "Epoch #62: loss=2.411314905491645\n",
      "Epoch #63: loss=2.4386236924227043\n"
     ]
    },
    {
     "ename": "KeyboardInterrupt",
     "evalue": "",
     "output_type": "error",
     "traceback": [
      "\u001b[0;31m---------------------------------------------------------------------------\u001b[0m",
      "\u001b[0;31mKeyboardInterrupt\u001b[0m                         Traceback (most recent call last)",
      "Input \u001b[0;32mIn [71]\u001b[0m, in \u001b[0;36m<module>\u001b[0;34m\u001b[0m\n\u001b[0;32m----> 1\u001b[0m loss_log \u001b[38;5;241m=\u001b[39m \u001b[43mmodel\u001b[49m\u001b[38;5;241;43m.\u001b[39;49m\u001b[43mfit\u001b[49m\u001b[43m(\u001b[49m\u001b[43mtrain_seqs\u001b[49m\u001b[43m,\u001b[49m\u001b[43m \u001b[49m\u001b[43mn_epochs\u001b[49m\u001b[38;5;241;43m=\u001b[39;49m\u001b[38;5;241;43m200\u001b[39;49m\u001b[43m,\u001b[49m\u001b[43m \u001b[49m\u001b[43mverbose\u001b[49m\u001b[38;5;241;43m=\u001b[39;49m\u001b[38;5;28;43;01mTrue\u001b[39;49;00m\u001b[43m)\u001b[49m\n",
      "File \u001b[0;32m/notebooks/most_recent_BTC/ts2vec/ts2vec.py:137\u001b[0m, in \u001b[0;36mTS2Vec.fit\u001b[0;34m(self, train_data, n_epochs, n_iters, verbose)\u001b[0m\n\u001b[1;32m    130\u001b[0m loss \u001b[38;5;241m=\u001b[39m hierarchical_contrastive_loss(\n\u001b[1;32m    131\u001b[0m     out1,\n\u001b[1;32m    132\u001b[0m     out2,\n\u001b[1;32m    133\u001b[0m     temporal_unit\u001b[38;5;241m=\u001b[39m\u001b[38;5;28mself\u001b[39m\u001b[38;5;241m.\u001b[39mtemporal_unit\n\u001b[1;32m    134\u001b[0m )\n\u001b[1;32m    136\u001b[0m loss\u001b[38;5;241m.\u001b[39mbackward()\n\u001b[0;32m--> 137\u001b[0m \u001b[43moptimizer\u001b[49m\u001b[38;5;241;43m.\u001b[39;49m\u001b[43mstep\u001b[49m\u001b[43m(\u001b[49m\u001b[43m)\u001b[49m\n\u001b[1;32m    138\u001b[0m \u001b[38;5;28mself\u001b[39m\u001b[38;5;241m.\u001b[39mnet\u001b[38;5;241m.\u001b[39mupdate_parameters(\u001b[38;5;28mself\u001b[39m\u001b[38;5;241m.\u001b[39m_net)\n\u001b[1;32m    140\u001b[0m cum_loss \u001b[38;5;241m+\u001b[39m\u001b[38;5;241m=\u001b[39m loss\u001b[38;5;241m.\u001b[39mitem()\n",
      "File \u001b[0;32m/opt/conda/lib/python3.8/site-packages/torch/optim/optimizer.py:88\u001b[0m, in \u001b[0;36mOptimizer._hook_for_profile.<locals>.profile_hook_step.<locals>.wrapper\u001b[0;34m(*args, **kwargs)\u001b[0m\n\u001b[1;32m     86\u001b[0m profile_name \u001b[38;5;241m=\u001b[39m \u001b[38;5;124m\"\u001b[39m\u001b[38;5;124mOptimizer.step#\u001b[39m\u001b[38;5;132;01m{}\u001b[39;00m\u001b[38;5;124m.step\u001b[39m\u001b[38;5;124m\"\u001b[39m\u001b[38;5;241m.\u001b[39mformat(obj\u001b[38;5;241m.\u001b[39m\u001b[38;5;18m__class__\u001b[39m\u001b[38;5;241m.\u001b[39m\u001b[38;5;18m__name__\u001b[39m)\n\u001b[1;32m     87\u001b[0m \u001b[38;5;28;01mwith\u001b[39;00m torch\u001b[38;5;241m.\u001b[39mautograd\u001b[38;5;241m.\u001b[39mprofiler\u001b[38;5;241m.\u001b[39mrecord_function(profile_name):\n\u001b[0;32m---> 88\u001b[0m     \u001b[38;5;28;01mreturn\u001b[39;00m \u001b[43mfunc\u001b[49m\u001b[43m(\u001b[49m\u001b[38;5;241;43m*\u001b[39;49m\u001b[43margs\u001b[49m\u001b[43m,\u001b[49m\u001b[43m \u001b[49m\u001b[38;5;241;43m*\u001b[39;49m\u001b[38;5;241;43m*\u001b[39;49m\u001b[43mkwargs\u001b[49m\u001b[43m)\u001b[49m\n",
      "File \u001b[0;32m/opt/conda/lib/python3.8/site-packages/torch/autograd/grad_mode.py:27\u001b[0m, in \u001b[0;36m_DecoratorContextManager.__call__.<locals>.decorate_context\u001b[0;34m(*args, **kwargs)\u001b[0m\n\u001b[1;32m     24\u001b[0m \u001b[38;5;129m@functools\u001b[39m\u001b[38;5;241m.\u001b[39mwraps(func)\n\u001b[1;32m     25\u001b[0m \u001b[38;5;28;01mdef\u001b[39;00m \u001b[38;5;21mdecorate_context\u001b[39m(\u001b[38;5;241m*\u001b[39margs, \u001b[38;5;241m*\u001b[39m\u001b[38;5;241m*\u001b[39mkwargs):\n\u001b[1;32m     26\u001b[0m     \u001b[38;5;28;01mwith\u001b[39;00m \u001b[38;5;28mself\u001b[39m\u001b[38;5;241m.\u001b[39mclone():\n\u001b[0;32m---> 27\u001b[0m         \u001b[38;5;28;01mreturn\u001b[39;00m \u001b[43mfunc\u001b[49m\u001b[43m(\u001b[49m\u001b[38;5;241;43m*\u001b[39;49m\u001b[43margs\u001b[49m\u001b[43m,\u001b[49m\u001b[43m \u001b[49m\u001b[38;5;241;43m*\u001b[39;49m\u001b[38;5;241;43m*\u001b[39;49m\u001b[43mkwargs\u001b[49m\u001b[43m)\u001b[49m\n",
      "File \u001b[0;32m/opt/conda/lib/python3.8/site-packages/torch/optim/adamw.py:145\u001b[0m, in \u001b[0;36mAdamW.step\u001b[0;34m(self, closure)\u001b[0m\n\u001b[1;32m    142\u001b[0m         \u001b[38;5;66;03m# record the step after step update\u001b[39;00m\n\u001b[1;32m    143\u001b[0m         state_steps\u001b[38;5;241m.\u001b[39mappend(state[\u001b[38;5;124m'\u001b[39m\u001b[38;5;124mstep\u001b[39m\u001b[38;5;124m'\u001b[39m])\n\u001b[0;32m--> 145\u001b[0m     \u001b[43mF\u001b[49m\u001b[38;5;241;43m.\u001b[39;49m\u001b[43madamw\u001b[49m\u001b[43m(\u001b[49m\u001b[43mparams_with_grad\u001b[49m\u001b[43m,\u001b[49m\n\u001b[1;32m    146\u001b[0m \u001b[43m            \u001b[49m\u001b[43mgrads\u001b[49m\u001b[43m,\u001b[49m\n\u001b[1;32m    147\u001b[0m \u001b[43m            \u001b[49m\u001b[43mexp_avgs\u001b[49m\u001b[43m,\u001b[49m\n\u001b[1;32m    148\u001b[0m \u001b[43m            \u001b[49m\u001b[43mexp_avg_sqs\u001b[49m\u001b[43m,\u001b[49m\n\u001b[1;32m    149\u001b[0m \u001b[43m            \u001b[49m\u001b[43mmax_exp_avg_sqs\u001b[49m\u001b[43m,\u001b[49m\n\u001b[1;32m    150\u001b[0m \u001b[43m            \u001b[49m\u001b[43mstate_steps\u001b[49m\u001b[43m,\u001b[49m\n\u001b[1;32m    151\u001b[0m \u001b[43m            \u001b[49m\u001b[43mamsgrad\u001b[49m\u001b[38;5;241;43m=\u001b[39;49m\u001b[43mamsgrad\u001b[49m\u001b[43m,\u001b[49m\n\u001b[1;32m    152\u001b[0m \u001b[43m            \u001b[49m\u001b[43mbeta1\u001b[49m\u001b[38;5;241;43m=\u001b[39;49m\u001b[43mbeta1\u001b[49m\u001b[43m,\u001b[49m\n\u001b[1;32m    153\u001b[0m \u001b[43m            \u001b[49m\u001b[43mbeta2\u001b[49m\u001b[38;5;241;43m=\u001b[39;49m\u001b[43mbeta2\u001b[49m\u001b[43m,\u001b[49m\n\u001b[1;32m    154\u001b[0m \u001b[43m            \u001b[49m\u001b[43mlr\u001b[49m\u001b[38;5;241;43m=\u001b[39;49m\u001b[43mgroup\u001b[49m\u001b[43m[\u001b[49m\u001b[38;5;124;43m'\u001b[39;49m\u001b[38;5;124;43mlr\u001b[39;49m\u001b[38;5;124;43m'\u001b[39;49m\u001b[43m]\u001b[49m\u001b[43m,\u001b[49m\n\u001b[1;32m    155\u001b[0m \u001b[43m            \u001b[49m\u001b[43mweight_decay\u001b[49m\u001b[38;5;241;43m=\u001b[39;49m\u001b[43mgroup\u001b[49m\u001b[43m[\u001b[49m\u001b[38;5;124;43m'\u001b[39;49m\u001b[38;5;124;43mweight_decay\u001b[39;49m\u001b[38;5;124;43m'\u001b[39;49m\u001b[43m]\u001b[49m\u001b[43m,\u001b[49m\n\u001b[1;32m    156\u001b[0m \u001b[43m            \u001b[49m\u001b[43meps\u001b[49m\u001b[38;5;241;43m=\u001b[39;49m\u001b[43mgroup\u001b[49m\u001b[43m[\u001b[49m\u001b[38;5;124;43m'\u001b[39;49m\u001b[38;5;124;43meps\u001b[39;49m\u001b[38;5;124;43m'\u001b[39;49m\u001b[43m]\u001b[49m\u001b[43m,\u001b[49m\n\u001b[1;32m    157\u001b[0m \u001b[43m            \u001b[49m\u001b[43mmaximize\u001b[49m\u001b[38;5;241;43m=\u001b[39;49m\u001b[43mgroup\u001b[49m\u001b[43m[\u001b[49m\u001b[38;5;124;43m'\u001b[39;49m\u001b[38;5;124;43mmaximize\u001b[39;49m\u001b[38;5;124;43m'\u001b[39;49m\u001b[43m]\u001b[49m\u001b[43m)\u001b[49m\n\u001b[1;32m    159\u001b[0m \u001b[38;5;28;01mreturn\u001b[39;00m loss\n",
      "File \u001b[0;32m/opt/conda/lib/python3.8/site-packages/torch/optim/_functional.py:144\u001b[0m, in \u001b[0;36madamw\u001b[0;34m(params, grads, exp_avgs, exp_avg_sqs, max_exp_avg_sqs, state_steps, amsgrad, beta1, beta2, lr, weight_decay, eps, maximize)\u001b[0m\n\u001b[1;32m    142\u001b[0m \u001b[38;5;66;03m# Decay the first and second moment running average coefficient\u001b[39;00m\n\u001b[1;32m    143\u001b[0m exp_avg\u001b[38;5;241m.\u001b[39mmul_(beta1)\u001b[38;5;241m.\u001b[39madd_(grad, alpha\u001b[38;5;241m=\u001b[39m\u001b[38;5;241m1\u001b[39m \u001b[38;5;241m-\u001b[39m beta1)\n\u001b[0;32m--> 144\u001b[0m \u001b[43mexp_avg_sq\u001b[49m\u001b[38;5;241;43m.\u001b[39;49m\u001b[43mmul_\u001b[49m\u001b[43m(\u001b[49m\u001b[43mbeta2\u001b[49m\u001b[43m)\u001b[49m\u001b[38;5;241m.\u001b[39maddcmul_(grad, grad, value\u001b[38;5;241m=\u001b[39m\u001b[38;5;241m1\u001b[39m \u001b[38;5;241m-\u001b[39m beta2)\n\u001b[1;32m    145\u001b[0m \u001b[38;5;28;01mif\u001b[39;00m amsgrad:\n\u001b[1;32m    146\u001b[0m     \u001b[38;5;66;03m# Maintains the maximum of all 2nd moment running avg. till now\u001b[39;00m\n\u001b[1;32m    147\u001b[0m     torch\u001b[38;5;241m.\u001b[39mmaximum(max_exp_avg_sqs[i], exp_avg_sq, out\u001b[38;5;241m=\u001b[39mmax_exp_avg_sqs[i])\n",
      "\u001b[0;31mKeyboardInterrupt\u001b[0m: "
     ]
    }
   ],
   "source": [
    "loss_log = model.fit(train_seqs, n_epochs=200, verbose=True) "
   ]
  },
  {
   "cell_type": "code",
   "execution_count": 72,
   "id": "58050507-0d74-4e3b-8f20-7a9c7df15aef",
   "metadata": {},
   "outputs": [],
   "source": [
    "model.save(\"ts2vec_test\") "
   ]
  },
  {
   "cell_type": "code",
   "execution_count": 73,
   "id": "9e703afb-f346-455a-859f-b49bf2a61254",
   "metadata": {},
   "outputs": [
    {
     "data": {
      "application/vnd.jupyter.widget-view+json": {
       "model_id": "661a50f37c254da19f13ec91ad1b3f64",
       "version_major": 2,
       "version_minor": 0
      },
      "text/plain": [
       "  0%|          | 0/871 [00:00<?, ?it/s]"
      ]
     },
     "metadata": {},
     "output_type": "display_data"
    }
   ],
   "source": [
    "test_seqs = [] \n",
    "for i in tqdm(range(len(test_data)), position=0, leave=True): \n",
    "    test_seq = date_chart_df[test_data[i][0]][0] \n",
    "    return_seqs = [] \n",
    "    for j in range(1, len(test_seq)): \n",
    "        return_seqs.append(test_seq[j] / test_seq[j-1]) \n",
    "    return_seqs = np.array(return_seqs) \n",
    "    test_seqs.append(return_seqs)  "
   ]
  },
  {
   "cell_type": "code",
   "execution_count": 75,
   "id": "cf6e8052-199d-48df-9a59-29a5b66599da",
   "metadata": {},
   "outputs": [
    {
     "data": {
      "text/plain": [
       "(871, 23, 1)"
      ]
     },
     "execution_count": 75,
     "metadata": {},
     "output_type": "execute_result"
    }
   ],
   "source": [
    "test_seqs = np.array(test_seqs).reshape((-1, 23, 1)) \n",
    "test_seqs.shape"
   ]
  },
  {
   "cell_type": "code",
   "execution_count": 77,
   "id": "73b27cbb-49d1-45e4-a4c0-3c4c7c45d27e",
   "metadata": {},
   "outputs": [],
   "source": [
    "outputs = model.encode(test_seqs)"
   ]
  },
  {
   "cell_type": "code",
   "execution_count": 78,
   "id": "b78da831-7f78-42af-80c3-5e2eb2fefd33",
   "metadata": {},
   "outputs": [
    {
     "data": {
      "text/plain": [
       "(871, 23, 128)"
      ]
     },
     "execution_count": 78,
     "metadata": {},
     "output_type": "execute_result"
    }
   ],
   "source": [
    "outputs.shape"
   ]
  },
  {
   "cell_type": "code",
   "execution_count": 80,
   "id": "823439c8-06d8-4691-acc4-297bb0339710",
   "metadata": {},
   "outputs": [],
   "source": [
    "np.save(\"ts2vec_embeddings\", outputs) "
   ]
  },
  {
   "cell_type": "code",
   "execution_count": 81,
   "id": "44fb67bb-859a-4f00-9959-137213da4339",
   "metadata": {},
   "outputs": [
    {
     "data": {
      "text/plain": [
       "((3582, 23, 1), (871, 23, 1))"
      ]
     },
     "execution_count": 81,
     "metadata": {},
     "output_type": "execute_result"
    }
   ],
   "source": [
    "train_seqs.shape, test_seqs.shape"
   ]
  },
  {
   "cell_type": "code",
   "execution_count": 87,
   "id": "cc1ea74b-8df9-44bc-9b8a-1e7911a57f44",
   "metadata": {},
   "outputs": [],
   "source": [
    "full_chart_emb = np.concatenate([train_seqs, test_seqs], axis=0)\n"
   ]
  },
  {
   "cell_type": "code",
   "execution_count": 89,
   "id": "cbebb138-aa4f-4bba-90af-33201cdd4682",
   "metadata": {},
   "outputs": [
    {
     "data": {
      "text/plain": [
       "(4453, 23, 128)"
      ]
     },
     "execution_count": 89,
     "metadata": {},
     "output_type": "execute_result"
    }
   ],
   "source": [
    "model.encode(full_chart_emb).shape"
   ]
  },
  {
   "cell_type": "code",
   "execution_count": null,
   "id": "8af96c00-fb7a-490f-ab14-6f1e29686c66",
   "metadata": {},
   "outputs": [],
   "source": []
  }
 ],
 "metadata": {
  "kernelspec": {
   "display_name": "Python 3 (ipykernel)",
   "language": "python",
   "name": "python3"
  },
  "language_info": {
   "codemirror_mode": {
    "name": "ipython",
    "version": 3
   },
   "file_extension": ".py",
   "mimetype": "text/x-python",
   "name": "python",
   "nbconvert_exporter": "python",
   "pygments_lexer": "ipython3",
   "version": "3.8.12"
  }
 },
 "nbformat": 4,
 "nbformat_minor": 5
}
