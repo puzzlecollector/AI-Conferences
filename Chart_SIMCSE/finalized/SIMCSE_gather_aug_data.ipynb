{
 "cells": [
  {
   "cell_type": "code",
   "execution_count": 1,
   "id": "099c1b36-6486-472f-8a08-5393eafd0c13",
   "metadata": {},
   "outputs": [
    {
     "name": "stderr",
     "output_type": "stream",
     "text": [
      "/opt/conda/lib/python3.8/site-packages/transformers/generation_utils.py:24: FutureWarning: Importing `GenerationMixin` from `src/transformers/generation_utils.py` is deprecated and will be removed in Transformers v5. Import as `from transformers import GenerationMixin` instead.\n",
      "  warnings.warn(\n"
     ]
    }
   ],
   "source": [
    "import numpy as np \n",
    "import pandas as pd \n",
    "import json \n",
    "import ccxt \n",
    "import seaborn as sns\n",
    "import os \n",
    "import pandas_ta as ta \n",
    "import time\n",
    "from datetime import datetime, timedelta\n",
    "import math\n",
    "from tqdm.auto import tqdm \n",
    "import matplotlib.pyplot as plt \n",
    "from transformers import * \n",
    "import torch \n",
    "from torch import Tensor \n",
    "from torch.utils.data import * \n",
    "import torch.nn as nn \n",
    "import torch.nn.functional as F \n",
    "from sklearn.utils.class_weight import compute_class_weight \n",
    "from sklearn.metrics import f1_score\n",
    "from imblearn.under_sampling import RandomUnderSampler\n",
    "from pytorch_metric_learning import miners, losses\n",
    "from pytorch_metric_learning.distances import CosineSimilarity\n",
    "from scipy.spatial.distance import cdist \n",
    "import pickle"
   ]
  },
  {
   "cell_type": "code",
   "execution_count": 2,
   "id": "3489bee3-42ba-495b-806e-ca9ad509c207",
   "metadata": {},
   "outputs": [],
   "source": [
    "# utility for plotting function\n",
    "\n",
    "def plot_series(x_series, y_series):\n",
    "    # 입력 series와 출력 series를 연속적으로 연결하여 시각적으로 보여주는 코드 입니다.\n",
    "    plt.plot(x_series, label = 'past_series')\n",
    "    plt.plot(np.arange(len(x_series), len(x_series)+len(y_series)),\n",
    "             y_series, label = 'future_series') \n",
    "    plt.legend()"
   ]
  },
  {
   "cell_type": "markdown",
   "id": "e6b7a449-c618-4c71-b480-1ebcba290f2a",
   "metadata": {},
   "source": [
    "### augmented data"
   ]
  },
  {
   "cell_type": "code",
   "execution_count": 3,
   "id": "04a6a2c8-9a90-421b-ad5f-975f8ce1958a",
   "metadata": {},
   "outputs": [],
   "source": [
    "with open(\"simcse_aug.pkl\", \"rb\") as handle: \n",
    "    simcse_aug_saved = pickle.load(handle) "
   ]
  },
  {
   "cell_type": "code",
   "execution_count": 6,
   "id": "b8188c34-552f-47f8-b5ee-accb5ef1336c",
   "metadata": {},
   "outputs": [],
   "source": [
    "samples = [datetime(2017, 9, 29, 11, 0), datetime(2017, 10, 3, 9, 0), datetime(2018, 2, 28, 3, 0)]"
   ]
  },
  {
   "cell_type": "code",
   "execution_count": 7,
   "id": "c93e9683-9ca7-4de4-96d7-0c80150fec46",
   "metadata": {},
   "outputs": [
    {
     "data": {
      "text/plain": [
       "[datetime.datetime(2017, 8, 31, 0, 0),\n",
       " datetime.datetime(2017, 8, 23, 14, 0),\n",
       " datetime.datetime(2017, 9, 17, 11, 0)]"
      ]
     },
     "execution_count": 7,
     "metadata": {},
     "output_type": "execute_result"
    }
   ],
   "source": [
    "simcse_aug_saved[samples[0]]"
   ]
  },
  {
   "cell_type": "code",
   "execution_count": null,
   "id": "a627f2f1-be17-47ba-b74b-bde13acbe154",
   "metadata": {},
   "outputs": [],
   "source": []
  },
  {
   "cell_type": "code",
   "execution_count": 8,
   "id": "85233369-688d-4a41-8d0a-eb71c0d0af99",
   "metadata": {},
   "outputs": [
    {
     "data": {
      "application/vnd.jupyter.widget-view+json": {
       "model_id": "2786eeb72e0d49cea64377f9cd4c47e0",
       "version_major": 2,
       "version_minor": 0
      },
      "text/plain": [
       "  0%|          | 0/47346 [00:00<?, ?it/s]"
      ]
     },
     "metadata": {},
     "output_type": "display_data"
    }
   ],
   "source": [
    "with open(\"BTC_USDT-1h-12.json\") as f: \n",
    "        d = json.load(f) \n",
    "\n",
    "chart_df = pd.DataFrame(d) \n",
    "chart_df = chart_df.rename(columns={0:\"timestamp\", 1:\"open\", 2:\"high\", 3:\"low\", 4:\"close\", 5:\"volume\"})\n",
    "\n",
    "def process(df): \n",
    "        binance = ccxt.binance() \n",
    "        dates = df[\"timestamp\"].values \n",
    "        timestamp = [] \n",
    "        for i in range(len(dates)):\n",
    "                date_string = binance.iso8601(int(dates[i])) \n",
    "                date_string = date_string[:10] + \" \" + date_string[11:-5] \n",
    "                timestamp.append(date_string) \n",
    "        df[\"datetime\"] = timestamp\n",
    "        df = df.drop(columns={\"timestamp\"}) \n",
    "        return df \n",
    "\n",
    "chart_df = process(chart_df) \n",
    "\n",
    "hours, days, months, years = [],[],[],[] \n",
    "for dt in tqdm(chart_df[\"datetime\"]):\n",
    "        dtobj = pd.to_datetime(dt) \n",
    "        hour = dtobj.hour \n",
    "        day = dtobj.day \n",
    "        month = dtobj.month \n",
    "        year = dtobj.year \n",
    "        hours.append(hour) \n",
    "        days.append(day) \n",
    "        months.append(month) \n",
    "        years.append(year) \n",
    "\n",
    "chart_df[\"hours\"] = hours \n",
    "chart_df[\"days\"] = days  \n",
    "chart_df[\"months\"] = months \n",
    "chart_df[\"years\"] = years "
   ]
  },
  {
   "cell_type": "code",
   "execution_count": 9,
   "id": "f69a3c81-3e22-4b96-beac-ba8d94762d71",
   "metadata": {},
   "outputs": [],
   "source": [
    "datetimes = chart_df[\"datetime\"].values "
   ]
  },
  {
   "cell_type": "code",
   "execution_count": 10,
   "id": "37cd4d34-dda5-4d8b-bfcc-a1ea12cb106b",
   "metadata": {},
   "outputs": [
    {
     "data": {
      "application/vnd.jupyter.widget-view+json": {
       "model_id": "34497683810c4bc9b6ffd3a302b5e6bb",
       "version_major": 2,
       "version_minor": 0
      },
      "text/plain": [
       "  0%|          | 0/47316 [00:00<?, ?it/s]"
      ]
     },
     "metadata": {},
     "output_type": "display_data"
    }
   ],
   "source": [
    "seq_len = 24\n",
    "forecast_horizon = 6\n",
    "date_chart = {} # datetime object : close prices  \n",
    "\n",
    "for i in tqdm(range(len(datetimes) - seq_len - forecast_horizon), position=0, leave=True): \n",
    "    dt_obj = datetime.strptime(str(datetimes[i]), \"%Y-%m-%d %H:%M:%S\")\n",
    "    date_chart[dt_obj] = (chart_df[\"close\"].values[i:i+seq_len], chart_df[\"close\"].values[i+seq_len:i+seq_len+forecast_horizon])\n",
    "    \n"
   ]
  },
  {
   "cell_type": "code",
   "execution_count": 62,
   "id": "a534d47e-7c25-4de5-8283-f11ec06c41a1",
   "metadata": {},
   "outputs": [
    {
     "data": {
      "application/vnd.jupyter.widget-view+json": {
       "model_id": "e33c1b582c884dd2af14404e72e2dd97",
       "version_major": 2,
       "version_minor": 0
      },
      "text/plain": [
       "  0%|          | 0/47316 [00:00<?, ?it/s]"
      ]
     },
     "metadata": {},
     "output_type": "display_data"
    }
   ],
   "source": [
    "past_cont_inputs, past_dates, future_cont_inputs, future_dates, targets = [], [], [], [], [] \n",
    "\n",
    "found = False \n",
    "\n",
    "for key, value in tqdm(date_chart.items(), position=0, leave=True): \n",
    "    if key in simcse_aug_saved.keys():    \n",
    "        past_input = [date_chart[key][0]] \n",
    "        future_input = [] \n",
    "        targets.append(date_chart[key][1])  \n",
    "    \n",
    "        similar_dates = simcse_aug_saved[key] \n",
    "        for dt in similar_dates:\n",
    "            past_input.append(date_chart[dt][0]) \n",
    "            future_input.append(date_chart[dt][1]) \n",
    "        \n",
    "        past_input = np.array(past_input) \n",
    "        future_input = np.array(future_input)  \n",
    "        \n",
    "        past_input = past_input.T \n",
    "        future_input = future_input.T \n",
    "        \n",
    "        past_cont_inputs.append(past_input) \n",
    "        future_cont_inputs.append(future_input) \n",
    "        \n",
    "        past_date = [[key.month, key.day, key.hour]] \n",
    "        for i in range(23): \n",
    "            curkey = key + timedelta(hours=1) \n",
    "            past_date.append([curkey.month, curkey.day, curkey.hour]) \n",
    "        past_date = np.array(past_date) \n",
    "        past_dates.append(past_date) \n",
    "        \n",
    "        future_date = [] \n",
    "        for i in range(6): \n",
    "            curkey = curkey + timedelta(hours=1) \n",
    "            future_date.append([curkey.month, curkey.day, curkey.hour]) \n",
    "        future_date = np.array(future_date) \n",
    "        future_dates.append(future_date) \n"
   ]
  },
  {
   "cell_type": "code",
   "execution_count": 65,
   "id": "f0bcd887-cb58-4ac6-842a-8aefe5bbba6e",
   "metadata": {},
   "outputs": [
    {
     "data": {
      "text/plain": [
       "((46316, 24, 4), (46316, 24, 3), (46316, 6, 3), (46316, 6, 3), (46316, 6))"
      ]
     },
     "execution_count": 65,
     "metadata": {},
     "output_type": "execute_result"
    }
   ],
   "source": [
    "past_cont_inputs = np.array(past_cont_inputs)\n",
    "past_dates = np.array(past_dates) \n",
    "future_cont_inputs = np.array(future_cont_inputs)  \n",
    "future_dates = np.array(future_dates) \n",
    "targets = np.array(targets) \n",
    "\n",
    "past_cont_inputs.shape, past_dates.shape, future_cont_inputs.shape, future_dates.shape, targets.shape"
   ]
  },
  {
   "cell_type": "code",
   "execution_count": 66,
   "id": "ec19551b-c5b8-4823-b0c7-9551343483ec",
   "metadata": {},
   "outputs": [],
   "source": [
    "np.save(\"aug_top3_simcse_past_cont_inputs\", past_cont_inputs)\n",
    "np.save(\"aug_top3_simcse_past_dates\", past_dates) \n",
    "np.save(\"aug_top3_simcse_future_cont_inputs\", future_cont_inputs) \n",
    "np.save(\"aug_top3_simcse_future_dates\", future_dates) \n",
    "np.save(\"aug_top3_simcse_targets\", targets) "
   ]
  },
  {
   "cell_type": "code",
   "execution_count": null,
   "id": "abfa30c1-f543-4943-9141-6158ef6a2bf5",
   "metadata": {},
   "outputs": [],
   "source": []
  },
  {
   "cell_type": "code",
   "execution_count": null,
   "id": "23e6604d-01ef-4ae5-b15f-e7b868be6fb9",
   "metadata": {},
   "outputs": [],
   "source": []
  },
  {
   "cell_type": "code",
   "execution_count": null,
   "id": "86718a9b-0dea-4ec0-a922-d0242ace8274",
   "metadata": {},
   "outputs": [],
   "source": []
  },
  {
   "cell_type": "markdown",
   "id": "2bbab6ef-d47d-45c9-89c5-20cf2a2f0c84",
   "metadata": {},
   "source": [
    "### non augmented data"
   ]
  },
  {
   "cell_type": "code",
   "execution_count": 79,
   "id": "33183235-3c10-4584-9077-42e25c0d1b8f",
   "metadata": {},
   "outputs": [
    {
     "data": {
      "application/vnd.jupyter.widget-view+json": {
       "model_id": "0cb007fc0743430781ae0cd1e8c856a3",
       "version_major": 2,
       "version_minor": 0
      },
      "text/plain": [
       "  0%|          | 0/47346 [00:00<?, ?it/s]"
      ]
     },
     "metadata": {},
     "output_type": "display_data"
    }
   ],
   "source": [
    "with open(\"BTC_USDT-1h-12.json\") as f: \n",
    "        d = json.load(f) \n",
    "\n",
    "chart_df = pd.DataFrame(d) \n",
    "chart_df = chart_df.rename(columns={0:\"timestamp\", 1:\"open\", 2:\"high\", 3:\"low\", 4:\"close\", 5:\"volume\"})\n",
    "\n",
    "def process(df): \n",
    "        binance = ccxt.binance() \n",
    "        dates = df[\"timestamp\"].values \n",
    "        timestamp = [] \n",
    "        for i in range(len(dates)):\n",
    "                date_string = binance.iso8601(int(dates[i])) \n",
    "                date_string = date_string[:10] + \" \" + date_string[11:-5] \n",
    "                timestamp.append(date_string) \n",
    "        df[\"datetime\"] = timestamp\n",
    "        df = df.drop(columns={\"timestamp\"}) \n",
    "        return df \n",
    "\n",
    "chart_df = process(chart_df) \n",
    "\n",
    "hours, days, months, years = [],[],[],[] \n",
    "for dt in tqdm(chart_df[\"datetime\"]):\n",
    "        dtobj = pd.to_datetime(dt) \n",
    "        hour = dtobj.hour \n",
    "        day = dtobj.day \n",
    "        month = dtobj.month \n",
    "        year = dtobj.year \n",
    "        hours.append(hour) \n",
    "        days.append(day) \n",
    "        months.append(month) \n",
    "        years.append(year) \n",
    "\n",
    "chart_df[\"hours\"] = hours \n",
    "chart_df[\"days\"] = days  \n",
    "chart_df[\"months\"] = months \n",
    "chart_df[\"years\"] = years \n",
    "\n",
    "\n",
    "datetimes = chart_df[\"datetime\"].values "
   ]
  },
  {
   "cell_type": "code",
   "execution_count": 80,
   "id": "479a51bf-c221-4781-9e0a-2ce56df27ce9",
   "metadata": {},
   "outputs": [
    {
     "data": {
      "application/vnd.jupyter.widget-view+json": {
       "model_id": "d82c316c62d4456f95583ef251707a9c",
       "version_major": 2,
       "version_minor": 0
      },
      "text/plain": [
       "  0%|          | 0/47316 [00:00<?, ?it/s]"
      ]
     },
     "metadata": {},
     "output_type": "display_data"
    }
   ],
   "source": [
    "seq_len = 24\n",
    "forecast_horizon = 6\n",
    "date_chart = {} # datetime object : close prices  \n",
    "\n",
    "for i in tqdm(range(len(datetimes) - seq_len - forecast_horizon), position=0, leave=True): \n",
    "    dt_obj = datetime.strptime(str(datetimes[i]), \"%Y-%m-%d %H:%M:%S\")\n",
    "    date_chart[dt_obj] = (chart_df[\"close\"].values[i:i+seq_len], chart_df[\"close\"].values[i+seq_len:i+seq_len+forecast_horizon])\n",
    "    \n"
   ]
  },
  {
   "cell_type": "code",
   "execution_count": 85,
   "id": "7f784b66-392d-4832-8b4b-fdca68444945",
   "metadata": {},
   "outputs": [
    {
     "data": {
      "application/vnd.jupyter.widget-view+json": {
       "model_id": "d5816388ecd640ae808c3d5414fd180f",
       "version_major": 2,
       "version_minor": 0
      },
      "text/plain": [
       "  0%|          | 0/47316 [00:00<?, ?it/s]"
      ]
     },
     "metadata": {},
     "output_type": "display_data"
    }
   ],
   "source": [
    "past_cont_inputs, past_dates, future_dates, targets = [], [], [], [] \n",
    " \n",
    "for key, value in tqdm(date_chart.items(), position=0, leave=True):\n",
    "    if key in simcse_aug_saved.keys(): \n",
    "        past_cont_inputs.append(date_chart[key][0])  \n",
    "        targets.append(date_chart[key][1]) \n",
    "        \n",
    "        past_date = [[key.month, key.day, key.hour]] \n",
    "        for i in range(23): \n",
    "            curkey = key + timedelta(hours=1) \n",
    "            past_date.append([curkey.month, curkey.day, curkey.hour]) \n",
    "        \n",
    "        past_date = np.array(past_date) \n",
    "        past_dates.append(past_date) \n",
    "        \n",
    "        future_date = [] \n",
    "        for i in range(6): \n",
    "            curkey = curkey + timedelta(hours=1) \n",
    "            future_date.append([curkey.month, curkey.day, curkey.hour]) \n",
    "        \n",
    "        future_date = np.array(future_date) \n",
    "        future_dates.append(future_date) \n",
    "                "
   ]
  },
  {
   "cell_type": "code",
   "execution_count": 86,
   "id": "24b44f98-de1c-40cc-80ad-432c296b3cb0",
   "metadata": {},
   "outputs": [
    {
     "data": {
      "text/plain": [
       "((46316, 24, 1), (46316, 24, 3), (46316, 6, 3), (46316, 6))"
      ]
     },
     "execution_count": 86,
     "metadata": {},
     "output_type": "execute_result"
    }
   ],
   "source": [
    "past_cont_inputs = np.array(past_cont_inputs).reshape((-1, 24, 1)) \n",
    "past_dates = np.array(past_dates) \n",
    "future_dates = np.array(future_dates) \n",
    "targets = np.array(targets) \n",
    "\n",
    "past_cont_inputs.shape, past_dates.shape, future_dates.shape, targets.shape"
   ]
  },
  {
   "cell_type": "code",
   "execution_count": 102,
   "id": "9fd4ebfb-e0c4-40a8-8f51-849b05483616",
   "metadata": {},
   "outputs": [],
   "source": [
    "np.save(\"non_augmented_past_cont_inputs\", past_cont_inputs) \n",
    "np.save(\"non_augmented_past_dates\", past_dates) \n",
    "np.save(\"non_augmented_future_dates\", future_dates) \n",
    "np.save(\"non_augmented_targets\", targets) "
   ]
  },
  {
   "cell_type": "code",
   "execution_count": 101,
   "id": "bffbf33d-8f26-45d9-997c-afaa035b12f1",
   "metadata": {},
   "outputs": [
    {
     "data": {
      "text/plain": [
       "(array([[4150.05],\n",
       "        [4128.99],\n",
       "        [4168.  ],\n",
       "        [4154.  ],\n",
       "        [4187.  ],\n",
       "        [4147.01],\n",
       "        [4149.99],\n",
       "        [4129.99],\n",
       "        [4184.98],\n",
       "        [4150.  ],\n",
       "        [4174.5 ],\n",
       "        [4195.98],\n",
       "        [4150.  ],\n",
       "        [4008.01],\n",
       "        [4032.87],\n",
       "        [4100.  ],\n",
       "        [4030.  ],\n",
       "        [4053.15],\n",
       "        [4090.1 ],\n",
       "        [4129.98],\n",
       "        [4063.01],\n",
       "        [4145.3 ],\n",
       "        [4220.01],\n",
       "        [4247.  ]]),\n",
       " array([4158.  , 4146.01, 4143.02, 4200.01, 4158.41, 4140.38]))"
      ]
     },
     "execution_count": 101,
     "metadata": {},
     "output_type": "execute_result"
    }
   ],
   "source": [
    "past_cont_inputs[11], targets[11]"
   ]
  },
  {
   "cell_type": "code",
   "execution_count": null,
   "id": "8ec640b7-29b0-4e94-948d-06e267b4340f",
   "metadata": {},
   "outputs": [],
   "source": []
  },
  {
   "cell_type": "code",
   "execution_count": 99,
   "id": "f377fa67-509a-492e-bed0-b9a7dbdfff38",
   "metadata": {},
   "outputs": [],
   "source": [
    "xx = np.load(\"aug_top3_simcse_past_cont_inputs.npy\")\n",
    "xx_targets = np.load(\"aug_top3_simcse_targets.npy\") "
   ]
  },
  {
   "cell_type": "code",
   "execution_count": 100,
   "id": "fd562d6a-7618-4f2b-b907-63a2b50ec190",
   "metadata": {},
   "outputs": [
    {
     "data": {
      "text/plain": [
       "(array([[4150.05, 3969.11, 4794.11, 3753.08],\n",
       "        [4128.99, 3961.  , 4473.35, 3480.  ],\n",
       "        [4168.  , 3971.02, 4696.44, 3630.06],\n",
       "        [4154.  , 3915.52, 4697.71, 3630.  ],\n",
       "        [4187.  , 3860.  , 4628.86, 3674.98],\n",
       "        [4147.01, 3964.92, 4604.02, 3630.  ],\n",
       "        [4149.99, 3936.28, 4625.56, 3567.11],\n",
       "        [4129.99, 3932.02, 4630.01, 3650.  ],\n",
       "        [4184.98, 3940.2 , 4604.97, 3617.01],\n",
       "        [4150.  , 4000.  , 4618.39, 3681.  ],\n",
       "        [4174.5 , 3969.01, 4483.94, 3664.  ],\n",
       "        [4195.98, 4016.26, 4460.19, 3662.13],\n",
       "        [4150.  , 3930.  , 4439.  , 3675.  ],\n",
       "        [4008.01, 3946.37, 4530.01, 3710.  ],\n",
       "        [4032.87, 3965.01, 4486.06, 3714.95],\n",
       "        [4100.  , 3961.9 , 4509.77, 3670.  ],\n",
       "        [4030.  , 3960.01, 4351.19, 3602.  ],\n",
       "        [4053.15, 3960.  , 4299.53, 3640.02],\n",
       "        [4090.1 , 3890.01, 4405.  , 3580.  ],\n",
       "        [4129.98, 3842.04, 4472.14, 3560.01],\n",
       "        [4063.01, 3848.01, 4600.53, 3557.75],\n",
       "        [4145.3 , 3882.71, 4560.  , 3563.05],\n",
       "        [4220.01, 3910.04, 4568.91, 3559.  ],\n",
       "        [4247.  , 3875.  , 4569.54, 3535.01]]),\n",
       " array([4158.  , 4146.01, 4143.02, 4200.01, 4158.41, 4140.38]))"
      ]
     },
     "execution_count": 100,
     "metadata": {},
     "output_type": "execute_result"
    }
   ],
   "source": [
    "xx[11], xx_targets[11]"
   ]
  },
  {
   "cell_type": "code",
   "execution_count": null,
   "id": "0468632b-8823-42f9-9ba2-5bf51ab8d0ae",
   "metadata": {},
   "outputs": [],
   "source": []
  }
 ],
 "metadata": {
  "kernelspec": {
   "display_name": "Python 3 (ipykernel)",
   "language": "python",
   "name": "python3"
  },
  "language_info": {
   "codemirror_mode": {
    "name": "ipython",
    "version": 3
   },
   "file_extension": ".py",
   "mimetype": "text/x-python",
   "name": "python",
   "nbconvert_exporter": "python",
   "pygments_lexer": "ipython3",
   "version": "3.8.12"
  }
 },
 "nbformat": 4,
 "nbformat_minor": 5
}
