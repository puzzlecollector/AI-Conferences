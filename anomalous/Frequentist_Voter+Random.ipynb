{
 "cells": [
  {
   "cell_type": "markdown",
   "id": "d0e399b7-dbf9-4da8-9a82-d29294d37200",
   "metadata": {},
   "source": [
    "# Frequentist"
   ]
  },
  {
   "cell_type": "code",
   "execution_count": 3,
   "id": "0ccc2250-2b2a-42bb-b5ba-cc3985887211",
   "metadata": {},
   "outputs": [
    {
     "data": {
      "application/vnd.jupyter.widget-view+json": {
       "model_id": "376268dd629b4cbb94959eb62a6c4bc9",
       "version_major": 2,
       "version_minor": 0
      },
      "text/plain": [
       "  0%|          | 0/47346 [00:00<?, ?it/s]"
      ]
     },
     "metadata": {},
     "output_type": "display_data"
    },
    {
     "data": {
      "application/vnd.jupyter.widget-view+json": {
       "model_id": "c9c6131f112d44ce9f7bdf07eb17115b",
       "version_major": 2,
       "version_minor": 0
      },
      "text/plain": [
       "  0%|          | 0/47316 [00:00<?, ?it/s]"
      ]
     },
     "metadata": {},
     "output_type": "display_data"
    }
   ],
   "source": [
    "import numpy as np \n",
    "import pandas as pd \n",
    "import json \n",
    "import ccxt \n",
    "import seaborn as sns\n",
    "import os \n",
    "import pandas_ta as ta \n",
    "import time\n",
    "from datetime import datetime, timedelta\n",
    "import math\n",
    "from tqdm.auto import tqdm \n",
    "import matplotlib.pyplot as plt \n",
    "from transformers import * \n",
    "import torch \n",
    "from torch import Tensor \n",
    "from torch.utils.data import * \n",
    "import torch.nn as nn \n",
    "import torch.nn.functional as F \n",
    "from sklearn.utils.class_weight import compute_class_weight \n",
    "from sklearn.metrics import f1_score\n",
    "from imblearn.under_sampling import RandomUnderSampler\n",
    "from pytorch_metric_learning import miners, losses\n",
    "from pytorch_metric_learning.distances import CosineSimilarity\n",
    "from scipy.spatial.distance import cdist \n",
    "import pickle\n",
    "\n",
    "with open(\"BTC_USDT-1h-12.json\") as f: \n",
    "        d = json.load(f) \n",
    "\n",
    "chart_df = pd.DataFrame(d) \n",
    "chart_df = chart_df.rename(columns={0:\"timestamp\", 1:\"open\", 2:\"high\", 3:\"low\", 4:\"close\", 5:\"volume\"})\n",
    "\n",
    "def process(df): \n",
    "        binance = ccxt.binance() \n",
    "        dates = df[\"timestamp\"].values \n",
    "        timestamp = [] \n",
    "        for i in range(len(dates)):\n",
    "                date_string = binance.iso8601(int(dates[i])) \n",
    "                date_string = date_string[:10] + \" \" + date_string[11:-5] \n",
    "                timestamp.append(date_string) \n",
    "        df[\"datetime\"] = timestamp\n",
    "        df = df.drop(columns={\"timestamp\"}) \n",
    "        return df \n",
    "\n",
    "chart_df = process(chart_df) \n",
    "\n",
    "hours, days, months, years = [],[],[],[] \n",
    "for dt in tqdm(chart_df[\"datetime\"]):\n",
    "        dtobj = pd.to_datetime(dt) \n",
    "        hour = dtobj.hour \n",
    "        day = dtobj.day \n",
    "        month = dtobj.month \n",
    "        year = dtobj.year \n",
    "        hours.append(hour) \n",
    "        days.append(day) \n",
    "        months.append(month) \n",
    "        years.append(year) \n",
    "\n",
    "chart_df[\"hours\"] = hours \n",
    "chart_df[\"days\"] = days  \n",
    "chart_df[\"months\"] = months \n",
    "chart_df[\"years\"] = years \n",
    "\n",
    "close = chart_df[\"close\"].values \n",
    "datetimes = chart_df[\"datetime\"].values \n",
    "\n",
    "lookback_window = 24\n",
    "forecast_window = 6 \n",
    "\n",
    "date_chart_df = {} \n",
    "\n",
    "for i in tqdm(range(lookback_window, len(datetimes)-forecast_window)): \n",
    "    dtobj = datetime.strptime(str(datetimes[i]), \"%Y-%m-%d %H:%M:%S\")  \n",
    "    date_chart_df[dtobj] = (close[i-lookback_window+1:i+1], close[i+1:i+1+forecast_window])\n",
    "    \n",
    "with open(\"similarity_dict_top_10.pkl\", \"rb\") as f: \n",
    "    similarity_dict = pickle.load(f) \n",
    "    "
   ]
  },
  {
   "cell_type": "code",
   "execution_count": 9,
   "id": "079c7e82-2d33-4891-b839-93128c7399cd",
   "metadata": {},
   "outputs": [],
   "source": [
    "action, full_gt = [], [] \n",
    "\n",
    "for key, value in similarity_dict.items(): \n",
    "    query_past, query_future = date_chart_df[key]\n",
    "    \n",
    "    query_last = query_past[-1] \n",
    "    gt_actions = []\n",
    "    for j in range(len(query_future)): \n",
    "        ret = query_future[j] / query_last \n",
    "        if ret <= 0.99: \n",
    "            gt_actions.append(1) \n",
    "        elif ret >= 1.01: \n",
    "            gt_actions.append(0) \n",
    "    if len(gt_actions) == 0: \n",
    "        gt_actions.append(2)  \n",
    "        \n",
    "    full_gt.append(gt_actions) \n",
    "    \n",
    "    votes = {\"long\":0, \"short\":0, \"hold\":0} \n",
    "    for i in range(len(value)): \n",
    "        candidate_past, candidate_future = date_chart_df[value[i]] \n",
    "        last = candidate_past[-1] \n",
    "        ishold = True \n",
    "        for j in range(len(candidate_future)): \n",
    "            ret = candidate_future[j] / last \n",
    "            if ret <= 0.99: \n",
    "                votes[\"short\"] += 1 \n",
    "                ishold = False  \n",
    "            elif ret >= 1.01: \n",
    "                votes[\"long\"] += 1 \n",
    "                ishold = False \n",
    "        if ishold == True: \n",
    "            votes[\"hold\"] += 1\n",
    "    if votes[\"hold\"] > max(votes[\"long\"], votes[\"short\"]): \n",
    "        action.append(2) \n",
    "    else: \n",
    "        if votes[\"long\"] > votes[\"short\"]: \n",
    "            action.append(0) \n",
    "        elif votes[\"short\"] > votes[\"long\"]: \n",
    "            action.append(1) \n",
    "        elif votes[\"short\"] == votes[\"long\"]: \n",
    "            if (query_past[-1] - query_past[-2])/query_past[-2] < 0: \n",
    "                action.append(0)\n",
    "            else: \n",
    "                action.append(1) "
   ]
  },
  {
   "cell_type": "code",
   "execution_count": 13,
   "id": "4b75e7fc-e7a9-472c-8a4b-2b99a465b2fb",
   "metadata": {},
   "outputs": [
    {
     "data": {
      "text/plain": [
       "45.285748734024594"
      ]
     },
     "execution_count": 13,
     "metadata": {},
     "output_type": "execute_result"
    }
   ],
   "source": [
    "cnt = 0 \n",
    "for i in range(len(full_gt)): \n",
    "    if action[i] in full_gt[i]:\n",
    "        cnt += 1\n",
    "        \n",
    "cnt / len(full_gt) * 100 "
   ]
  },
  {
   "cell_type": "markdown",
   "id": "d1a3bd92-06f8-4d64-af68-cf890ca7f2c7",
   "metadata": {},
   "source": [
    "# Random"
   ]
  },
  {
   "cell_type": "code",
   "execution_count": 37,
   "id": "b0bcba2c-4499-45ee-a2a7-42580d16b5c3",
   "metadata": {},
   "outputs": [
    {
     "data": {
      "application/vnd.jupyter.widget-view+json": {
       "model_id": "0fd9d947cc5e467f81f44a8f514f824a",
       "version_major": 2,
       "version_minor": 0
      },
      "text/plain": [
       "  0%|          | 0/1000 [00:00<?, ?it/s]"
      ]
     },
     "metadata": {},
     "output_type": "display_data"
    }
   ],
   "source": [
    "import random\n",
    "\n",
    "all_acc = [] \n",
    "\n",
    "for k in tqdm(range(1000)): \n",
    "    action, full_gt = [], [] \n",
    "\n",
    "    for key, value in similarity_dict.items(): \n",
    "        query_past, query_future = date_chart_df[key]\n",
    "\n",
    "        query_last = query_past[-1] \n",
    "        gt_actions = []\n",
    "        for j in range(len(query_future)): \n",
    "            ret = query_future[j] / query_last \n",
    "            if ret <= 0.99: \n",
    "                gt_actions.append(1) \n",
    "            elif ret >= 1.01: \n",
    "                gt_actions.append(0) \n",
    "        if len(gt_actions) == 0: \n",
    "            gt_actions.append(2)  \n",
    "\n",
    "        full_gt.append(gt_actions) \n",
    "\n",
    "        randint = random.randint(0, 2) \n",
    "        action.append(randint) \n",
    "    \n",
    "    cnt = 0 \n",
    "    for i in range(len(full_gt)): \n",
    "        if action[i] in full_gt[i]:\n",
    "            cnt += 1\n",
    "\n",
    "    acc = cnt / len(full_gt) * 100  \n",
    "    \n",
    "    all_acc.append(acc) "
   ]
  },
  {
   "cell_type": "code",
   "execution_count": 38,
   "id": "ebbf2ed3-e19d-4fc6-ae1e-aaed1ee046a0",
   "metadata": {},
   "outputs": [
    {
     "data": {
      "text/plain": [
       "36.109549071618034"
      ]
     },
     "execution_count": 38,
     "metadata": {},
     "output_type": "execute_result"
    }
   ],
   "source": [
    "np.mean(all_acc)"
   ]
  },
  {
   "cell_type": "code",
   "execution_count": null,
   "id": "2cd0586b-b75a-47e7-b433-03955ef8257a",
   "metadata": {},
   "outputs": [],
   "source": []
  }
 ],
 "metadata": {
  "kernelspec": {
   "display_name": "Python 3 (ipykernel)",
   "language": "python",
   "name": "python3"
  },
  "language_info": {
   "codemirror_mode": {
    "name": "ipython",
    "version": 3
   },
   "file_extension": ".py",
   "mimetype": "text/x-python",
   "name": "python",
   "nbconvert_exporter": "python",
   "pygments_lexer": "ipython3",
   "version": "3.8.12"
  }
 },
 "nbformat": 4,
 "nbformat_minor": 5
}
