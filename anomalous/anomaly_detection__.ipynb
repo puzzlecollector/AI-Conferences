{
 "cells": [
  {
   "cell_type": "code",
   "execution_count": 1,
   "id": "ad9cbc0b-56b8-47ed-ad52-2254b8034f4e",
   "metadata": {},
   "outputs": [
    {
     "name": "stderr",
     "output_type": "stream",
     "text": [
      "/opt/conda/lib/python3.8/site-packages/transformers/generation_utils.py:24: FutureWarning: Importing `GenerationMixin` from `src/transformers/generation_utils.py` is deprecated and will be removed in Transformers v5. Import as `from transformers import GenerationMixin` instead.\n",
      "  warnings.warn(\n"
     ]
    }
   ],
   "source": [
    "import numpy as np \n",
    "import pandas as pd \n",
    "import json \n",
    "import ccxt \n",
    "import seaborn as sns\n",
    "import os \n",
    "import pandas_ta as ta \n",
    "import time\n",
    "from datetime import datetime, timedelta\n",
    "import math\n",
    "from tqdm.auto import tqdm \n",
    "import matplotlib.pyplot as plt \n",
    "from transformers import * \n",
    "import torch \n",
    "from torch import Tensor \n",
    "from torch.utils.data import * \n",
    "import torch.nn as nn \n",
    "import torch.nn.functional as F \n",
    "from sklearn.utils.class_weight import compute_class_weight \n",
    "from sklearn.metrics import f1_score\n",
    "from imblearn.under_sampling import RandomUnderSampler\n",
    "from pytorch_metric_learning import miners, losses\n",
    "from pytorch_metric_learning.distances import CosineSimilarity\n",
    "from scipy.spatial.distance import cdist \n",
    "import pickle\n",
    "import warnings\n",
    "warnings.filterwarnings('ignore')"
   ]
  },
  {
   "cell_type": "code",
   "execution_count": 2,
   "id": "005e41e5-8f49-4eb7-b712-6f5294600899",
   "metadata": {},
   "outputs": [
    {
     "data": {
      "application/vnd.jupyter.widget-view+json": {
       "model_id": "7ea33b7ed22743bd96b025a5c0854f35",
       "version_major": 2,
       "version_minor": 0
      },
      "text/plain": [
       "  0%|          | 0/47346 [00:00<?, ?it/s]"
      ]
     },
     "metadata": {},
     "output_type": "display_data"
    }
   ],
   "source": [
    "with open(\"BTC_USDT-1h-12.json\") as f: \n",
    "        d = json.load(f) \n",
    "\n",
    "chart_df = pd.DataFrame(d) \n",
    "chart_df = chart_df.rename(columns={0:\"timestamp\", 1:\"open\", 2:\"high\", 3:\"low\", 4:\"close\", 5:\"volume\"})\n",
    "\n",
    "def process(df): \n",
    "        binance = ccxt.binance() \n",
    "        dates = df[\"timestamp\"].values \n",
    "        timestamp = [] \n",
    "        for i in range(len(dates)):\n",
    "                date_string = binance.iso8601(int(dates[i])) \n",
    "                date_string = date_string[:10] + \" \" + date_string[11:-5] \n",
    "                timestamp.append(date_string) \n",
    "        df[\"datetime\"] = timestamp\n",
    "        df = df.drop(columns={\"timestamp\"}) \n",
    "        return df \n",
    "\n",
    "chart_df = process(chart_df) \n",
    "\n",
    "hours, days, months, years = [],[],[],[] \n",
    "for dt in tqdm(chart_df[\"datetime\"]):\n",
    "        dtobj = pd.to_datetime(dt) \n",
    "        hour = dtobj.hour \n",
    "        day = dtobj.day \n",
    "        month = dtobj.month \n",
    "        year = dtobj.year \n",
    "        hours.append(hour) \n",
    "        days.append(day) \n",
    "        months.append(month) \n",
    "        years.append(year) \n",
    "\n",
    "chart_df[\"hours\"] = hours \n",
    "chart_df[\"days\"] = days  \n",
    "chart_df[\"months\"] = months \n",
    "chart_df[\"years\"] = years "
   ]
  },
  {
   "cell_type": "code",
   "execution_count": 3,
   "id": "8ac5a0b6-5f2f-476d-856c-8ce3aabcd635",
   "metadata": {},
   "outputs": [],
   "source": [
    "close = chart_df[\"close\"].values \n",
    "datetimes = chart_df[\"datetime\"].values \n",
    "\n",
    "anomalous_datetimes = [] \n",
    "\n",
    "lookback_window = 12 \n",
    "forecast_window = 6\n",
    "\n",
    "threshold = 1 # is 1% considered an anomaly for 1 hour chart data \n",
    "\n",
    "for i in range(lookback_window, close.shape[0]-forecast_window):\n",
    "    cur_close = close[i-lookback_window+1:i+1] \n",
    "    delta = (cur_close[-1] - cur_close[-2]) / cur_close[-2] * 100 \n",
    "    if delta >= threshold or delta <= -threshold:\n",
    "        dtobj = datetime.strptime(str(datetimes[i]), \"%Y-%m-%d %H:%M:%S\") \n",
    "        anomalous_datetimes.append(dtobj)"
   ]
  },
  {
   "cell_type": "code",
   "execution_count": 4,
   "id": "100af174-8765-4119-8134-a7ce8ef0d6ea",
   "metadata": {},
   "outputs": [
    {
     "data": {
      "application/vnd.jupyter.widget-view+json": {
       "model_id": "b0b636f426c748379a8c0a24e34dbcd7",
       "version_major": 2,
       "version_minor": 0
      },
      "text/plain": [
       "  0%|          | 0/47328 [00:00<?, ?it/s]"
      ]
     },
     "metadata": {},
     "output_type": "display_data"
    }
   ],
   "source": [
    "# contains all corresponding chart data for the given date \n",
    "date_chart_df = {} \n",
    "\n",
    "for i in tqdm(range(lookback_window, len(datetimes)-forecast_window)): \n",
    "    dtobj = datetime.strptime(str(datetimes[i]), \"%Y-%m-%d %H:%M:%S\")  \n",
    "    date_chart_df[dtobj] = (close[i-lookback_window+1:i+1], close[i+1:i+1+forecast_window])"
   ]
  },
  {
   "cell_type": "code",
   "execution_count": 6,
   "id": "b08db04c-c33b-401c-bb7a-f86f1e6b9c9b",
   "metadata": {},
   "outputs": [
    {
     "data": {
      "application/vnd.jupyter.widget-view+json": {
       "model_id": "5a101e15a03d4a2da7b2df1815825708",
       "version_major": 2,
       "version_minor": 0
      },
      "text/plain": [
       "  0%|          | 0/6456 [00:00<?, ?it/s]"
      ]
     },
     "metadata": {},
     "output_type": "display_data"
    }
   ],
   "source": [
    "labels = [] \n",
    "two_high_delta, two_low_delta = [], [] \n",
    "\n",
    "for i in tqdm(range(len(anomalous_datetimes)), position=0, leave=True):\n",
    "    past_input, future_input = date_chart_df[anomalous_datetimes[i]] \n",
    "    last_close = past_input[-1] \n",
    "    maxhigh, minlow = np.max(future_input), np.min(future_input) \n",
    "    high_delta = (maxhigh - last_close) / last_close * 100.0 \n",
    "    low_delta = (minlow - last_close) / last_close * 100.0 \n",
    "    if high_delta >= 1.0 or low_delta <= -1.0: \n",
    "        if high_delta >= np.abs(low_delta): \n",
    "            labels.append(0) \n",
    "        elif high_delta < np.abs(low_delta): \n",
    "            labels.append(1) \n",
    "    else: \n",
    "        labels.append(2)  \n",
    "        two_high_delta.append(high_delta) \n",
    "        two_low_delta.append(low_delta)  "
   ]
  },
  {
   "cell_type": "code",
   "execution_count": 7,
   "id": "312d645c-bbbf-45fa-be25-8c86a8147b87",
   "metadata": {},
   "outputs": [
    {
     "data": {
      "text/plain": [
       "{0: 2756, 1: 2558, 2: 1142}"
      ]
     },
     "execution_count": 7,
     "metadata": {},
     "output_type": "execute_result"
    }
   ],
   "source": [
    "cntmap = {0:0, 1:0, 2:0} \n",
    "\n",
    "for i in range(len(labels)): \n",
    "    cntmap[labels[i]] += 1 \n",
    "    \n",
    "cntmap"
   ]
  },
  {
   "cell_type": "code",
   "execution_count": 10,
   "id": "32f5083f-a820-4590-ba5a-c80e7c6880f3",
   "metadata": {},
   "outputs": [
    {
     "data": {
      "application/vnd.jupyter.widget-view+json": {
       "model_id": "be8fa4a645df4996aaf06967e3be0b4b",
       "version_major": 2,
       "version_minor": 0
      },
      "text/plain": [
       "  0%|          | 0/113954 [00:00<?, ?it/s]"
      ]
     },
     "metadata": {},
     "output_type": "display_data"
    }
   ],
   "source": [
    "news = pd.read_csv(\"full_news_22_01_16.csv\")\n",
    "titles = news[\"titles\"].values \n",
    "contents = news[\"contents\"].values \n",
    "\n",
    "years = news[\"year\"].values \n",
    "months = news[\"month\"].values \n",
    "days = news[\"day\"].values \n",
    "hours = news[\"hour\"].values \n",
    "\n",
    "news_dtobjects = [] \n",
    "\n",
    "for i in tqdm(range(len(years)), position=0, leave=True): \n",
    "    date_str = str(years[i]) + \"-\" + str(months[i]) + \"-\" + str(days[i]) + \" \" + str(hours[i]) + \":00:00\" \n",
    "    dtobj = datetime.strptime(date_str, \"%Y-%m-%d %H:%M:%S\")  \n",
    "    news_dtobjects.append(dtobj) "
   ]
  },
  {
   "cell_type": "code",
   "execution_count": 11,
   "id": "1d1d2222-1ba7-4c14-89f0-b94351d459cb",
   "metadata": {},
   "outputs": [
    {
     "name": "stderr",
     "output_type": "stream",
     "text": [
      "loading file spiece.model from cache at /root/.cache/huggingface/hub/models--totoro4007--cryptodeberta-base-all-finetuned/snapshots/de08541cefb506b62199f1fb009baec865481fef/spiece.model\n",
      "loading file added_tokens.json from cache at /root/.cache/huggingface/hub/models--totoro4007--cryptodeberta-base-all-finetuned/snapshots/de08541cefb506b62199f1fb009baec865481fef/added_tokens.json\n",
      "loading file special_tokens_map.json from cache at /root/.cache/huggingface/hub/models--totoro4007--cryptodeberta-base-all-finetuned/snapshots/de08541cefb506b62199f1fb009baec865481fef/special_tokens_map.json\n",
      "loading file tokenizer_config.json from cache at /root/.cache/huggingface/hub/models--totoro4007--cryptodeberta-base-all-finetuned/snapshots/de08541cefb506b62199f1fb009baec865481fef/tokenizer_config.json\n",
      "Adding <pad> to the vocabulary\n",
      "loading configuration file config.json from cache at /root/.cache/huggingface/hub/models--totoro4007--cryptodeberta-base-all-finetuned/snapshots/de08541cefb506b62199f1fb009baec865481fef/config.json\n",
      "Model config DebertaConfig {\n",
      "  \"_name_or_path\": \"totoro4007/cryptodeberta-base-all-finetuned\",\n",
      "  \"architectures\": [\n",
      "    \"DebertaForSequenceClassification\"\n",
      "  ],\n",
      "  \"attention_probs_dropout_prob\": 0.1,\n",
      "  \"hidden_act\": \"gelu\",\n",
      "  \"hidden_dropout_prob\": 0.1,\n",
      "  \"hidden_size\": 768,\n",
      "  \"id2label\": {\n",
      "    \"0\": \"LABEL_0\",\n",
      "    \"1\": \"LABEL_1\",\n",
      "    \"2\": \"LABEL_2\"\n",
      "  },\n",
      "  \"initializer_range\": 0.02,\n",
      "  \"intermediate_size\": 3072,\n",
      "  \"label2id\": {\n",
      "    \"LABEL_0\": 0,\n",
      "    \"LABEL_1\": 1,\n",
      "    \"LABEL_2\": 2\n",
      "  },\n",
      "  \"layer_norm_eps\": 1e-07,\n",
      "  \"max_position_embeddings\": 512,\n",
      "  \"max_relative_positions\": -1,\n",
      "  \"model_type\": \"deberta\",\n",
      "  \"num_attention_heads\": 12,\n",
      "  \"num_hidden_layers\": 12,\n",
      "  \"pad_token_id\": 0,\n",
      "  \"pooler_dropout\": 0,\n",
      "  \"pooler_hidden_act\": \"gelu\",\n",
      "  \"pooler_hidden_size\": 768,\n",
      "  \"pos_att_type\": [\n",
      "    \"c2p\",\n",
      "    \"p2c\"\n",
      "  ],\n",
      "  \"position_biased_input\": false,\n",
      "  \"relative_attention\": true,\n",
      "  \"torch_dtype\": \"float32\",\n",
      "  \"transformers_version\": \"4.26.0\",\n",
      "  \"type_vocab_size\": 0,\n",
      "  \"vocab_size\": 52001\n",
      "}\n",
      "\n",
      "loading weights file pytorch_model.bin from cache at /root/.cache/huggingface/hub/models--totoro4007--cryptodeberta-base-all-finetuned/snapshots/de08541cefb506b62199f1fb009baec865481fef/pytorch_model.bin\n",
      "All model checkpoint weights were used when initializing DebertaForSequenceClassification.\n",
      "\n",
      "All the weights of DebertaForSequenceClassification were initialized from the model checkpoint at totoro4007/cryptodeberta-base-all-finetuned.\n",
      "If your task is similar to the task the model of the checkpoint was trained on, you can already use DebertaForSequenceClassification for predictions without further training.\n"
     ]
    },
    {
     "name": "stdout",
     "output_type": "stream",
     "text": [
      "\n"
     ]
    }
   ],
   "source": [
    "device = torch.device(\"cuda:0\" if torch.cuda.is_available() else \"cpu\") \n",
    "tokenizer = AlbertTokenizer.from_pretrained(\"totoro4007/cryptodeberta-base-all-finetuned\") \n",
    "model = AutoModelForSequenceClassification.from_pretrained(\"totoro4007/cryptodeberta-base-all-finetuned\", num_labels=3) \n",
    "model.to(device)  \n",
    "model.eval() \n",
    "print() "
   ]
  },
  {
   "cell_type": "code",
   "execution_count": 13,
   "id": "9c0303e3-b3e9-4c87-974a-8a703d473380",
   "metadata": {},
   "outputs": [
    {
     "data": {
      "application/vnd.jupyter.widget-view+json": {
       "model_id": "3e871bda047c464d9d3c01cfa78f1d94",
       "version_major": 2,
       "version_minor": 0
      },
      "text/plain": [
       "  0%|          | 0/6456 [00:00<?, ?it/s]"
      ]
     },
     "metadata": {},
     "output_type": "display_data"
    }
   ],
   "source": [
    "# we cannot consider sections where news data is not available \n",
    "searchable = [] # at least have one news for comparison \n",
    "\n",
    "for i in tqdm(range(len(anomalous_datetimes)), position=0, leave=True): \n",
    "    dtobj = anomalous_datetimes[i] \n",
    "    start_dt, end_dt = dtobj-timedelta(hours=12), dtobj \n",
    "    cnt = 0 \n",
    "    for k in range(len(news_dtobjects)): \n",
    "        if news_dtobjects[k] >= start_dt and news_dtobjects[k] <= end_dt: \n",
    "            cnt += 1\n",
    "        elif news_dtobjects[k] > end_dt: \n",
    "            break \n",
    "    if cnt > 0:\n",
    "        searchable.append((dtobj, cnt))"
   ]
  },
  {
   "cell_type": "code",
   "execution_count": 14,
   "id": "8fe622c5-3432-4f3b-9b08-63bc66d7aee1",
   "metadata": {},
   "outputs": [],
   "source": [
    "with open(\"news_score_dict.pkl\", \"rb\") as f: \n",
    "    news_score_dict = pickle.load(f) "
   ]
  },
  {
   "cell_type": "code",
   "execution_count": 17,
   "id": "8465bfbd-935c-4005-b37d-c08d6163ceec",
   "metadata": {},
   "outputs": [],
   "source": [
    "def get_score_given_date(d):\n",
    "    start_dt, end_dt = d-timedelta(hours=12), d \n",
    "    score_arr = np.zeros((3)) # positive, negative, neutral \n",
    "    for k in range(len(news_dtobjects)): \n",
    "        if news_dtobjects[k] >= start_dt and news_dtobjects[k] <= end_dt: \n",
    "            score_arr[0] += news_score_dict[titles[k]][0] \n",
    "            score_arr[1] += news_score_dict[titles[k]][1] \n",
    "            score_arr[2] += news_score_dict[titles[k]][2] \n",
    "    return score_arr "
   ]
  },
  {
   "cell_type": "code",
   "execution_count": 28,
   "id": "d1067dc9-45d1-439e-8c1e-e8a5b84a6345",
   "metadata": {},
   "outputs": [],
   "source": [
    "def euclidean_distance(x1, x2): \n",
    "    return np.sqrt((x1[0]-x2[0])**2 + (x1[1]-x2[1])**2 + (x1[2]-x2[2])**2) "
   ]
  },
  {
   "cell_type": "code",
   "execution_count": 60,
   "id": "43f46710-e9bd-40be-94ea-453fa30a0717",
   "metadata": {},
   "outputs": [
    {
     "data": {
      "application/vnd.jupyter.widget-view+json": {
       "model_id": "9c1a92aba25148b493b7a98458a30b56",
       "version_major": 2,
       "version_minor": 0
      },
      "text/plain": [
       "  0%|          | 0/4247 [00:00<?, ?it/s]"
      ]
     },
     "metadata": {},
     "output_type": "display_data"
    }
   ],
   "source": [
    "label_dict = {} \n",
    "for i in tqdm(range(len(searchable)), position=0, leave=True): \n",
    "    cur_date = searchable[i][0]\n",
    "    past_input, future_input = date_chart_df[cur_date]  \n",
    "    last_close = past_input[-1] \n",
    "    maxhigh, minlow = np.max(future_input), np.min(future_input) \n",
    "    high_delta = (maxhigh - last_close) / last_close * 100.0 \n",
    "    low_delta = (minlow - last_close) / last_close * 100.0  \n",
    "    if high_delta >= 1.0 or low_delta <= -1.0: \n",
    "        if high_delta >= np.abs(low_delta): \n",
    "            label_dict[cur_date] = 0 \n",
    "        elif high_delta < np.abs(low_delta): \n",
    "            label_dict[cur_date] = 1 \n",
    "    else: \n",
    "        label_dict[cur_date] = 2 "
   ]
  },
  {
   "cell_type": "code",
   "execution_count": 62,
   "id": "5e89ecfc-e55c-43fc-a678-c7a073a5a4e3",
   "metadata": {},
   "outputs": [
    {
     "data": {
      "application/vnd.jupyter.widget-view+json": {
       "model_id": "5c479bbf20084b928afa19eab1da777b",
       "version_major": 2,
       "version_minor": 0
      },
      "text/plain": [
       "  0%|          | 0/4247 [00:00<?, ?it/s]"
      ]
     },
     "metadata": {},
     "output_type": "display_data"
    }
   ],
   "source": [
    "past_input_dir = {} \n",
    "for i in tqdm(range(len(searchable)), position=0, leave=True):\n",
    "    cur_date = searchable[i][0]\n",
    "    past_input, future_input = date_chart_df[cur_date] \n",
    "    delta = (past_input[-1] - past_input[-2]) / past_input[-2] * 100.0 \n",
    "    if delta >= 1.0: \n",
    "        past_input_dir[cur_date] = 0 \n",
    "    elif delta <= -1.0: \n",
    "        past_input_dir[cur_date] = 1 "
   ]
  },
  {
   "cell_type": "code",
   "execution_count": null,
   "id": "5d6e151a-66b3-42a7-9024-a1b82e0e4817",
   "metadata": {},
   "outputs": [
    {
     "data": {
      "application/vnd.jupyter.widget-view+json": {
       "model_id": "ecd46fde0b51459eb7c224c76f9084c0",
       "version_major": 2,
       "version_minor": 0
      },
      "text/plain": [
       "  0%|          | 0/4147 [00:00<?, ?it/s]"
      ]
     },
     "metadata": {},
     "output_type": "display_data"
    }
   ],
   "source": [
    "similarity_dict = {} \n",
    "\n",
    "topK = 3\n",
    "for i in tqdm(range(100, len(searchable)), position=0, leave=True): \n",
    "    query_date = searchable[i][0]  \n",
    "    query_direction = past_input_dir[query_date] \n",
    "    query_score = get_score_given_date(query_date) \n",
    "    candidate_info = [] \n",
    "    for j in range(0, i):\n",
    "        candidate_date = searchable[j][0] \n",
    "        candidate_score = get_score_given_date(candidate_date) \n",
    "        distance = euclidean_distance(query_score, candidate_score) \n",
    "        candidate_info.append((candidate_date, distance)) \n",
    "    \n",
    "    candidate_info = sorted(candidate_info, key=lambda x: x[1]) # sort accoding to euclidean distance in ascending order \n",
    "    relevant_candidates = [] \n",
    "    cnt = 0 \n",
    "    for j in range(len(candidate_info)): \n",
    "        if cnt == topK: \n",
    "            break \n",
    "        candidate_date, candidate_distance = candidate_info[j][0], candidate_info[j][1] \n",
    "        candidate_direction = past_input_dir[candidate_date] \n",
    "        if query_direction == candidate_direction:\n",
    "            relevant_candidates.append(candidate_date) \n",
    "            cnt += 1 \n",
    "            \n",
    "    similarity_dict[query_date] = relevant_candidates \n"
   ]
  },
  {
   "cell_type": "code",
   "execution_count": null,
   "id": "a246dd68-0697-4ee2-b9cf-95a6c0a68dbf",
   "metadata": {},
   "outputs": [],
   "source": [
    "with open(\"similarity_dict.pkl\", \"wb\") as f: \n",
    "    pickle.dump(similarity_dict, f)\n",
    "    \n",
    "print(\"done saving!\") "
   ]
  },
  {
   "cell_type": "markdown",
   "id": "46fc76a7-ceb3-4d0b-ac80-b1f227e9899c",
   "metadata": {},
   "source": [
    "### print a few samples"
   ]
  },
  {
   "cell_type": "code",
   "execution_count": 65,
   "id": "0cd045af-670d-4774-8d01-4539ed271a7e",
   "metadata": {},
   "outputs": [
    {
     "data": {
      "text/plain": [
       "{datetime.datetime(2018, 2, 13, 21, 0): [datetime.datetime(2018, 2, 2, 17, 0),\n",
       "  datetime.datetime(2018, 2, 5, 17, 0),\n",
       "  datetime.datetime(2018, 2, 5, 18, 0)]}"
      ]
     },
     "execution_count": 65,
     "metadata": {},
     "output_type": "execute_result"
    }
   ],
   "source": [
    "similarity_dict"
   ]
  },
  {
   "cell_type": "code",
   "execution_count": 69,
   "id": "d1aba5ee-d915-4608-b2fd-fff91fffb71b",
   "metadata": {},
   "outputs": [
    {
     "name": "stdout",
     "output_type": "stream",
     "text": [
      "query label : 0\n"
     ]
    },
    {
     "data": {
      "image/png": "[encoded data removed]",
      "text/plain": [
       "<Figure size 432x288 with 1 Axes>"
      ]
     },
     "metadata": {
      "needs_background": "light"
     },
     "output_type": "display_data"
    },
    {
     "name": "stdout",
     "output_type": "stream",
     "text": [
      "candidate label : 0\n"
     ]
    },
    {
     "data": {
      "image/png": "[encoded data removed]",
      "text/plain": [
       "<Figure size 432x288 with 1 Axes>"
      ]
     },
     "metadata": {
      "needs_background": "light"
     },
     "output_type": "display_data"
    },
    {
     "name": "stdout",
     "output_type": "stream",
     "text": [
      "candidate label : 1\n"
     ]
    },
    {
     "data": {
      "image/png": "[encoded data removed]",
      "text/plain": [
       "<Figure size 432x288 with 1 Axes>"
      ]
     },
     "metadata": {
      "needs_background": "light"
     },
     "output_type": "display_data"
    },
    {
     "name": "stdout",
     "output_type": "stream",
     "text": [
      "candidate label : 1\n"
     ]
    },
    {
     "data": {
      "image/png": "[encoded data removed]",
      "text/plain": [
       "<Figure size 432x288 with 1 Axes>"
      ]
     },
     "metadata": {
      "needs_background": "light"
     },
     "output_type": "display_data"
    }
   ],
   "source": [
    "for key, value in similarity_dict.items(): \n",
    "    query_date = key \n",
    "    candidate_dates = value \n",
    "    \n",
    "    print(f\"query label : {label_dict[query_date]}\") \n",
    "    x1, x2 = date_chart_df[query_date] \n",
    "    plt.plot(np.arange(12), x1)\n",
    "    plt.plot(np.arange(12, 12+6), x2) \n",
    "    plt.show() \n",
    "    \n",
    "    for i in range(len(candidate_dates)): \n",
    "        print(f\"candidate label : {label_dict[candidate_dates[i]]}\") \n",
    "        x1, x2 = date_chart_df[candidate_dates[i]] \n",
    "        plt.plot(np.arange(12), x1)\n",
    "        plt.plot(np.arange(12, 12+6), x2) \n",
    "        plt.show() \n",
    "    "
   ]
  },
  {
   "cell_type": "code",
   "execution_count": null,
   "id": "78ef8939-0601-49ff-9cfa-918bb9eaf816",
   "metadata": {},
   "outputs": [],
   "source": []
  },
  {
   "cell_type": "code",
   "execution_count": null,
   "id": "62a6d843-5bb2-45e1-95c4-99b624baa2d5",
   "metadata": {},
   "outputs": [],
   "source": []
  },
  {
   "cell_type": "code",
   "execution_count": 50,
   "id": "1e052fb6-47c9-42c3-bfbb-2ea18ef80a3c",
   "metadata": {},
   "outputs": [
    {
     "data": {
      "text/plain": [
       "[<matplotlib.lines.Line2D at 0x7fc6bad25f40>]"
      ]
     },
     "execution_count": 50,
     "metadata": {},
     "output_type": "execute_result"
    },
    {
     "data": {
      "image/png": "[encoded data removed]",
      "text/plain": [
       "<Figure size 432x288 with 1 Axes>"
      ]
     },
     "metadata": {
      "needs_background": "light"
     },
     "output_type": "display_data"
    }
   ],
   "source": [
    "x1, x2 = date_chart_df[query_date]\n",
    "\n",
    "plt.plot(np.arange(12), x1)\n",
    "plt.plot(np.arange(12, 12+6), x2) "
   ]
  },
  {
   "cell_type": "code",
   "execution_count": 52,
   "id": "5921aee4-59c9-4d5e-b72e-117121f940de",
   "metadata": {},
   "outputs": [
    {
     "data": {
      "text/plain": [
       "[<matplotlib.lines.Line2D at 0x7fc6bac8ce20>]"
      ]
     },
     "execution_count": 52,
     "metadata": {},
     "output_type": "execute_result"
    },
    {
     "data": {
      "image/png": "[encoded data removed]",
      "text/plain": [
       "<Figure size 432x288 with 1 Axes>"
      ]
     },
     "metadata": {
      "needs_background": "light"
     },
     "output_type": "display_data"
    }
   ],
   "source": [
    "x1, x2 = date_chart_df[candidate_info[0][0]]\n",
    "\n",
    "plt.plot(np.arange(12), x1)\n",
    "plt.plot(np.arange(12, 12+6), x2) "
   ]
  },
  {
   "cell_type": "code",
   "execution_count": 53,
   "id": "d4837a7c-6ba0-435b-8a83-6b39c3c8c2bf",
   "metadata": {},
   "outputs": [
    {
     "data": {
      "text/plain": [
       "[<matplotlib.lines.Line2D at 0x7fc6bac79550>]"
      ]
     },
     "execution_count": 53,
     "metadata": {},
     "output_type": "execute_result"
    },
    {
     "data": {
      "image/png": "[encoded data removed]",
      "text/plain": [
       "<Figure size 432x288 with 1 Axes>"
      ]
     },
     "metadata": {
      "needs_background": "light"
     },
     "output_type": "display_data"
    }
   ],
   "source": [
    "x1, x2 = date_chart_df[candidate_info[1][0]]\n",
    "\n",
    "plt.plot(np.arange(12), x1)\n",
    "plt.plot(np.arange(12, 12+6), x2) "
   ]
  },
  {
   "cell_type": "code",
   "execution_count": 54,
   "id": "b225164c-c667-4902-9f94-2d0116acb67c",
   "metadata": {},
   "outputs": [
    {
     "data": {
      "text/plain": [
       "[<matplotlib.lines.Line2D at 0x7fc6babe1850>]"
      ]
     },
     "execution_count": 54,
     "metadata": {},
     "output_type": "execute_result"
    },
    {
     "data": {
      "image/png": "[encoded data removed]",
      "text/plain": [
       "<Figure size 432x288 with 1 Axes>"
      ]
     },
     "metadata": {
      "needs_background": "light"
     },
     "output_type": "display_data"
    }
   ],
   "source": [
    "x1, x2 = date_chart_df[candidate_info[2][0]]\n",
    "\n",
    "plt.plot(np.arange(12), x1)\n",
    "plt.plot(np.arange(12, 12+6), x2) "
   ]
  },
  {
   "cell_type": "code",
   "execution_count": 55,
   "id": "34d10c01-24c2-4f7c-9074-7b4a82eb88a5",
   "metadata": {},
   "outputs": [
    {
     "data": {
      "text/plain": [
       "[<matplotlib.lines.Line2D at 0x7fc6bab4abb0>]"
      ]
     },
     "execution_count": 55,
     "metadata": {},
     "output_type": "execute_result"
    },
    {
     "data": {
      "image/png": "[encoded data removed]",
      "text/plain": [
       "<Figure size 432x288 with 1 Axes>"
      ]
     },
     "metadata": {
      "needs_background": "light"
     },
     "output_type": "display_data"
    }
   ],
   "source": [
    "x1, x2 = date_chart_df[candidate_info[3][0]]\n",
    "\n",
    "plt.plot(np.arange(12), x1)\n",
    "plt.plot(np.arange(12, 12+6), x2) "
   ]
  },
  {
   "cell_type": "code",
   "execution_count": null,
   "id": "25551ef6-1456-43df-814c-831d18019092",
   "metadata": {},
   "outputs": [],
   "source": []
  },
  {
   "cell_type": "code",
   "execution_count": null,
   "id": "f66d3405-b70b-4b46-b90f-f1f6517f9a76",
   "metadata": {},
   "outputs": [],
   "source": []
  }
 ],
 "metadata": {
  "kernelspec": {
   "display_name": "Python 3 (ipykernel)",
   "language": "python",
   "name": "python3"
  },
  "language_info": {
   "codemirror_mode": {
    "name": "ipython",
    "version": 3
   },
   "file_extension": ".py",
   "mimetype": "text/x-python",
   "name": "python",
   "nbconvert_exporter": "python",
   "pygments_lexer": "ipython3",
   "version": "3.8.12"
  }
 },
 "nbformat": 4,
 "nbformat_minor": 5
}
