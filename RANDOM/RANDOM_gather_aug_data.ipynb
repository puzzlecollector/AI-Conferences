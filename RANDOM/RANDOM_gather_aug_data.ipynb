{
 "cells": [
  {
   "cell_type": "code",
   "execution_count": 1,
   "id": "1e48e6f7-f61f-46d4-a512-4e499605fce4",
   "metadata": {},
   "outputs": [
    {
     "name": "stderr",
     "output_type": "stream",
     "text": [
      "/opt/conda/lib/python3.8/site-packages/transformers/generation_utils.py:24: FutureWarning: Importing `GenerationMixin` from `src/transformers/generation_utils.py` is deprecated and will be removed in Transformers v5. Import as `from transformers import GenerationMixin` instead.\n",
      "  warnings.warn(\n"
     ]
    }
   ],
   "source": [
    "import numpy as np \n",
    "import pandas as pd \n",
    "import json \n",
    "import ccxt \n",
    "import seaborn as sns\n",
    "import os \n",
    "import pandas_ta as ta \n",
    "import time\n",
    "from datetime import datetime, timedelta\n",
    "import math\n",
    "from tqdm.auto import tqdm \n",
    "import matplotlib.pyplot as plt \n",
    "from transformers import * \n",
    "import torch \n",
    "from torch import Tensor \n",
    "from torch.utils.data import * \n",
    "import torch.nn as nn \n",
    "import torch.nn.functional as F \n",
    "from sklearn.utils.class_weight import compute_class_weight \n",
    "from sklearn.metrics import f1_score\n",
    "from imblearn.under_sampling import RandomUnderSampler\n",
    "from pytorch_metric_learning import miners, losses\n",
    "from pytorch_metric_learning.distances import CosineSimilarity\n",
    "from scipy.spatial.distance import cdist \n",
    "import pickle"
   ]
  },
  {
   "cell_type": "markdown",
   "id": "3664b586-85db-4c54-9c2f-2d15762f127c",
   "metadata": {},
   "source": [
    "# Random Data"
   ]
  },
  {
   "cell_type": "code",
   "execution_count": 2,
   "id": "e5c95b55-9816-45e1-93e9-b4ad21126f5f",
   "metadata": {},
   "outputs": [],
   "source": [
    "with open(\"random_aug.pkl\", \"rb\") as handle: \n",
    "    random_aug_saved = pickle.load(handle) "
   ]
  },
  {
   "cell_type": "code",
   "execution_count": 4,
   "id": "d9066df2-a7b6-491a-b5c5-524dc3206916",
   "metadata": {},
   "outputs": [
    {
     "data": {
      "application/vnd.jupyter.widget-view+json": {
       "model_id": "1dec480797d648c68732e3f0fb634c23",
       "version_major": 2,
       "version_minor": 0
      },
      "text/plain": [
       "  0%|          | 0/47346 [00:00<?, ?it/s]"
      ]
     },
     "metadata": {},
     "output_type": "display_data"
    }
   ],
   "source": [
    "with open(\"BTC_USDT-1h-12.json\") as f: \n",
    "        d = json.load(f) \n",
    "\n",
    "chart_df = pd.DataFrame(d) \n",
    "chart_df = chart_df.rename(columns={0:\"timestamp\", 1:\"open\", 2:\"high\", 3:\"low\", 4:\"close\", 5:\"volume\"})\n",
    "\n",
    "def process(df): \n",
    "        binance = ccxt.binance() \n",
    "        dates = df[\"timestamp\"].values \n",
    "        timestamp = [] \n",
    "        for i in range(len(dates)):\n",
    "                date_string = binance.iso8601(int(dates[i])) \n",
    "                date_string = date_string[:10] + \" \" + date_string[11:-5] \n",
    "                timestamp.append(date_string) \n",
    "        df[\"datetime\"] = timestamp\n",
    "        df = df.drop(columns={\"timestamp\"}) \n",
    "        return df \n",
    "\n",
    "chart_df = process(chart_df) \n",
    "\n",
    "hours, days, months, years = [],[],[],[] \n",
    "for dt in tqdm(chart_df[\"datetime\"]):\n",
    "        dtobj = pd.to_datetime(dt) \n",
    "        hour = dtobj.hour \n",
    "        day = dtobj.day \n",
    "        month = dtobj.month \n",
    "        year = dtobj.year \n",
    "        hours.append(hour) \n",
    "        days.append(day) \n",
    "        months.append(month) \n",
    "        years.append(year) \n",
    "\n",
    "chart_df[\"hours\"] = hours \n",
    "chart_df[\"days\"] = days  \n",
    "chart_df[\"months\"] = months \n",
    "chart_df[\"years\"] = years "
   ]
  },
  {
   "cell_type": "code",
   "execution_count": 5,
   "id": "2516e17a-72ec-4d45-b8b3-a9732db1e7ea",
   "metadata": {},
   "outputs": [
    {
     "data": {
      "application/vnd.jupyter.widget-view+json": {
       "model_id": "70369dcd9ae7485e9ce6fcbf5a072e01",
       "version_major": 2,
       "version_minor": 0
      },
      "text/plain": [
       "  0%|          | 0/47316 [00:00<?, ?it/s]"
      ]
     },
     "metadata": {},
     "output_type": "display_data"
    }
   ],
   "source": [
    "datetimes = chart_df[\"datetime\"].values \n",
    "\n",
    "seq_len = 24\n",
    "forecast_horizon = 6\n",
    "date_chart = {} # datetime object : close prices  \n",
    "\n",
    "for i in tqdm(range(len(datetimes) - seq_len - forecast_horizon), position=0, leave=True): \n",
    "    dt_obj = datetime.strptime(str(datetimes[i]), \"%Y-%m-%d %H:%M:%S\")\n",
    "    date_chart[dt_obj] = (chart_df[\"close\"].values[i:i+seq_len], chart_df[\"close\"].values[i+seq_len:i+seq_len+forecast_horizon])"
   ]
  },
  {
   "cell_type": "code",
   "execution_count": 6,
   "id": "aebe9ab3-a3d8-4773-9480-511821ca60c6",
   "metadata": {},
   "outputs": [
    {
     "data": {
      "application/vnd.jupyter.widget-view+json": {
       "model_id": "279550303c094396bad81927f21b92a7",
       "version_major": 2,
       "version_minor": 0
      },
      "text/plain": [
       "  0%|          | 0/47316 [00:00<?, ?it/s]"
      ]
     },
     "metadata": {},
     "output_type": "display_data"
    }
   ],
   "source": [
    "past_cont_inputs, past_dates, future_cont_inputs, future_dates, targets = [], [], [], [], [] \n",
    "\n",
    "found = False \n",
    "\n",
    "for key, value in tqdm(date_chart.items(), position=0, leave=True): \n",
    "    if key in random_aug_saved.keys():    \n",
    "        past_input = [date_chart[key][0]] \n",
    "        future_input = [] \n",
    "        targets.append(date_chart[key][1])  \n",
    "    \n",
    "        similar_dates = random_aug_saved[key] \n",
    "        for dt in similar_dates:\n",
    "            past_input.append(date_chart[dt][0]) \n",
    "            future_input.append(date_chart[dt][1]) \n",
    "        \n",
    "        past_input = np.array(past_input) \n",
    "        future_input = np.array(future_input)  \n",
    "        \n",
    "        past_input = past_input.T \n",
    "        future_input = future_input.T \n",
    "        \n",
    "        past_cont_inputs.append(past_input) \n",
    "        future_cont_inputs.append(future_input) \n",
    "        \n",
    "        past_date = [[key.month, key.day, key.hour]] \n",
    "        for i in range(23): \n",
    "            curkey = key + timedelta(hours=1) \n",
    "            past_date.append([curkey.month, curkey.day, curkey.hour]) \n",
    "        past_date = np.array(past_date) \n",
    "        past_dates.append(past_date) \n",
    "        \n",
    "        future_date = [] \n",
    "        for i in range(6): \n",
    "            curkey = curkey + timedelta(hours=1) \n",
    "            future_date.append([curkey.month, curkey.day, curkey.hour]) \n",
    "        future_date = np.array(future_date) \n",
    "        future_dates.append(future_date) \n"
   ]
  },
  {
   "cell_type": "code",
   "execution_count": 7,
   "id": "9401c7a3-9ea6-4a4b-99f2-07c14aeeccf2",
   "metadata": {},
   "outputs": [
    {
     "data": {
      "text/plain": [
       "((46316, 24, 4), (46316, 24, 3), (46316, 6, 3), (46316, 6, 3), (46316, 6))"
      ]
     },
     "execution_count": 7,
     "metadata": {},
     "output_type": "execute_result"
    }
   ],
   "source": [
    "past_cont_inputs = np.array(past_cont_inputs)\n",
    "past_dates = np.array(past_dates) \n",
    "future_cont_inputs = np.array(future_cont_inputs)  \n",
    "future_dates = np.array(future_dates) \n",
    "targets = np.array(targets) \n",
    "\n",
    "past_cont_inputs.shape, past_dates.shape, future_cont_inputs.shape, future_dates.shape, targets.shape"
   ]
  },
  {
   "cell_type": "code",
   "execution_count": 8,
   "id": "c463412e-0290-47e9-b69e-6f094753621c",
   "metadata": {},
   "outputs": [],
   "source": [
    "np.save(\"random_top3_past_cont_inputs\", past_cont_inputs) \n",
    "np.save(\"random_top3_past_dates\", past_dates) \n",
    "np.save(\"random_top3_future_cont_inputs\", future_cont_inputs) \n",
    "np.save(\"random_top3_future_dates\", future_dates) \n",
    "np.save(\"random_targets\", targets) "
   ]
  },
  {
   "cell_type": "code",
   "execution_count": null,
   "id": "a2c63d74-c5e1-47aa-9ed9-23e70764bb2b",
   "metadata": {},
   "outputs": [],
   "source": []
  },
  {
   "cell_type": "code",
   "execution_count": null,
   "id": "4ab49bf1-e1df-45fc-9d78-57b04560cad8",
   "metadata": {},
   "outputs": [],
   "source": []
  }
 ],
 "metadata": {
  "kernelspec": {
   "display_name": "Python 3 (ipykernel)",
   "language": "python",
   "name": "python3"
  },
  "language_info": {
   "codemirror_mode": {
    "name": "ipython",
    "version": 3
   },
   "file_extension": ".py",
   "mimetype": "text/x-python",
   "name": "python",
   "nbconvert_exporter": "python",
   "pygments_lexer": "ipython3",
   "version": "3.8.12"
  }
 },
 "nbformat": 4,
 "nbformat_minor": 5
}
